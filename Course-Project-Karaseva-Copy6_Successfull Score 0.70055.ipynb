{
 "cells": [
  {
   "cell_type": "markdown",
   "id": "a8c451d2",
   "metadata": {},
   "source": [
    "# Курсовой проект"
   ]
  },
  {
   "cell_type": "markdown",
   "id": "2a375d39",
   "metadata": {},
   "source": [
    "### 1. Подключение библиотек и скриптов"
   ]
  },
  {
   "cell_type": "code",
   "execution_count": 1,
   "id": "238f93c8",
   "metadata": {},
   "outputs": [],
   "source": [
    "# 1. Основные библиотеки\n",
    "import numpy as np\n",
    "import pandas as pd\n",
    "import pickle   # сохранение модели\n",
    "\n",
    "import matplotlib\n",
    "import matplotlib.pyplot as plt\n",
    "import seaborn as sns\n",
    "%matplotlib inline\n",
    "\n",
    "# 2. Разделение датасета\n",
    "from sklearn.model_selection import train_test_split, KFold, GridSearchCV\n",
    "\n",
    "# 3. Модели\n",
    "from sklearn.ensemble import GradientBoostingRegressor\n",
    "from sklearn.preprocessing import StandardScaler\n",
    "\n",
    "# 4. Метрики качества\n",
    "from sklearn.metrics import mean_squared_error as mse, r2_score as r2\n",
    "\n",
    "import warnings\n",
    "warnings.filterwarnings('ignore')"
   ]
  },
  {
   "cell_type": "markdown",
   "id": "28dabdd9",
   "metadata": {},
   "source": [
    "### 2. Пути к директориям файлам"
   ]
  },
  {
   "cell_type": "code",
   "execution_count": 2,
   "id": "b31f3262",
   "metadata": {},
   "outputs": [],
   "source": [
    "# исходный файл\n",
    "DATASET_PATH = 'C:/Курсовой проект Библиотеки/train.csv'\n",
    "\n",
    "# тестовый датасет\n",
    "TEST_DATASET_PATH = 'C:/Курсовой проект Библиотеки/test.csv'\n",
    "\n",
    "# предсказания на тестовом датасете\n",
    "PREDICTIONS = 'C:/Курсовой проект Библиотеки/IKaraseva_predictions.csv'"
   ]
  },
  {
   "cell_type": "markdown",
   "id": "4b42ae94",
   "metadata": {},
   "source": [
    "### 3. Загрузка данных"
   ]
  },
  {
   "cell_type": "code",
   "execution_count": 3,
   "id": "411693e0",
   "metadata": {},
   "outputs": [],
   "source": [
    "df = pd.read_csv(DATASET_PATH)"
   ]
  },
  {
   "cell_type": "code",
   "execution_count": 4,
   "id": "b089d40a",
   "metadata": {},
   "outputs": [],
   "source": [
    "test_df = pd.read_csv(TEST_DATASET_PATH)"
   ]
  },
  {
   "cell_type": "markdown",
   "id": "fd1000a1",
   "metadata": {},
   "source": [
    "### 4. Уменьшение объема памяти, который занимает датасет"
   ]
  },
  {
   "cell_type": "code",
   "execution_count": 5,
   "id": "aba354cc",
   "metadata": {},
   "outputs": [],
   "source": [
    "def reduce_mem_usage(df):\n",
    "    \"\"\" iterate through all the columns of a dataframe and modify the data type\n",
    "        to reduce memory usage.        \n",
    "    \"\"\"\n",
    "    start_mem = df.memory_usage().sum() / 1024**2\n",
    "    print('Memory usage of dataframe is {:.2f} MB'.format(start_mem))\n",
    "    \n",
    "    for col in df.columns:\n",
    "        col_type = df[col].dtype\n",
    "        \n",
    "        if col_type != object:\n",
    "            c_min = df[col].min()\n",
    "            c_max = df[col].max()\n",
    "            if str(col_type)[:3] == 'int':\n",
    "                if c_min > np.iinfo(np.int8).min and c_max < np.iinfo(np.int8).max:\n",
    "                    df[col] = df[col].astype(np.int8)\n",
    "                elif c_min > np.iinfo(np.int16).min and c_max < np.iinfo(np.int16).max:\n",
    "                    df[col] = df[col].astype(np.int16)\n",
    "                elif c_min > np.iinfo(np.int32).min and c_max < np.iinfo(np.int32).max:\n",
    "                    df[col] = df[col].astype(np.int32)\n",
    "                elif c_min > np.iinfo(np.int64).min and c_max < np.iinfo(np.int64).max:\n",
    "                    df[col] = df[col].astype(np.int64)  \n",
    "            else:\n",
    "                if c_min > np.finfo(np.float32).min and c_max < np.finfo(np.float32).max:\n",
    "                    df[col] = df[col].astype(np.float32)\n",
    "                else:\n",
    "                    df[col] = df[col].astype(np.float64)\n",
    "        else:\n",
    "            df[col] = df[col].astype('category')\n",
    "\n",
    "    end_mem = df.memory_usage().sum() / 1024**2\n",
    "    print('Memory usage after optimization is: {:.2f} MB'.format(end_mem))\n",
    "    print('Decreased by {:.1f}%'.format(100 * (start_mem - end_mem) / start_mem))\n",
    "    \n",
    "    return df"
   ]
  },
  {
   "cell_type": "code",
   "execution_count": 6,
   "id": "306b3a6c",
   "metadata": {
    "scrolled": true
   },
   "outputs": [
    {
     "name": "stdout",
     "output_type": "stream",
     "text": [
      "Memory usage of dataframe is 1.53 MB\n",
      "Memory usage after optimization is: 0.49 MB\n",
      "Decreased by 68.1%\n"
     ]
    }
   ],
   "source": [
    "df = reduce_mem_usage(df)"
   ]
  },
  {
   "cell_type": "markdown",
   "id": "cdfe8e87",
   "metadata": {},
   "source": [
    "### 5. Описание датасета"
   ]
  },
  {
   "cell_type": "markdown",
   "id": "92a58920",
   "metadata": {},
   "source": [
    "- Id - идентификационный номер квартиры\n",
    "- DistrictId - идентификационный номер района\n",
    "- Rooms - количество комнат\n",
    "- Square - площадь\n",
    "- LifeSquare - жилая площадь\n",
    "- KitchenSquare - площадь кухни\n",
    "- Floor - этаж\n",
    "- HouseFloor - количество этажей в доме\n",
    "- HouseYear - год постройки дома\n",
    "- Ecology_1, Ecology_2, Ecology_3 - экологические показатели местности\n",
    "- Social_1, Social_2, Social_3 - социальные показатели местности\n",
    "- Healthcare_1, Helthcare_2 - показатели местности, связанные с охраной здоровья\n",
    "- Shops_1, Shops_2 - показатели, связанные с наличием магазинов, торговых центров\n",
    "- Price - цена квартиры"
   ]
  },
  {
   "cell_type": "code",
   "execution_count": 7,
   "id": "4d86b153",
   "metadata": {
    "scrolled": true
   },
   "outputs": [
    {
     "name": "stdout",
     "output_type": "stream",
     "text": [
      "<class 'pandas.core.frame.DataFrame'>\n",
      "RangeIndex: 10000 entries, 0 to 9999\n",
      "Data columns (total 20 columns):\n",
      " #   Column         Non-Null Count  Dtype   \n",
      "---  ------         --------------  -----   \n",
      " 0   Id             10000 non-null  int16   \n",
      " 1   DistrictId     10000 non-null  int16   \n",
      " 2   Rooms          10000 non-null  float32 \n",
      " 3   Square         10000 non-null  float32 \n",
      " 4   LifeSquare     7887 non-null   float32 \n",
      " 5   KitchenSquare  10000 non-null  float32 \n",
      " 6   Floor          10000 non-null  int8    \n",
      " 7   HouseFloor     10000 non-null  float32 \n",
      " 8   HouseYear      10000 non-null  int32   \n",
      " 9   Ecology_1      10000 non-null  float32 \n",
      " 10  Ecology_2      10000 non-null  category\n",
      " 11  Ecology_3      10000 non-null  category\n",
      " 12  Social_1       10000 non-null  int8    \n",
      " 13  Social_2       10000 non-null  int16   \n",
      " 14  Social_3       10000 non-null  int16   \n",
      " 15  Healthcare_1   5202 non-null   float32 \n",
      " 16  Helthcare_2    10000 non-null  int8    \n",
      " 17  Shops_1        10000 non-null  int8    \n",
      " 18  Shops_2        10000 non-null  category\n",
      " 19  Price          10000 non-null  float32 \n",
      "dtypes: category(3), float32(8), int16(4), int32(1), int8(4)\n",
      "memory usage: 498.8 KB\n"
     ]
    }
   ],
   "source": [
    "df.info(memory_usage = 'deep')"
   ]
  },
  {
   "cell_type": "code",
   "execution_count": 8,
   "id": "aae5d589",
   "metadata": {},
   "outputs": [
    {
     "data": {
      "text/plain": [
       "Id                  0\n",
       "DistrictId          0\n",
       "Rooms               0\n",
       "Square              0\n",
       "LifeSquare       2113\n",
       "KitchenSquare       0\n",
       "Floor               0\n",
       "HouseFloor          0\n",
       "HouseYear           0\n",
       "Ecology_1           0\n",
       "Ecology_2           0\n",
       "Ecology_3           0\n",
       "Social_1            0\n",
       "Social_2            0\n",
       "Social_3            0\n",
       "Healthcare_1     4798\n",
       "Helthcare_2         0\n",
       "Shops_1             0\n",
       "Shops_2             0\n",
       "Price               0\n",
       "dtype: int64"
      ]
     },
     "execution_count": 8,
     "metadata": {},
     "output_type": "execute_result"
    }
   ],
   "source": [
    "df.isna().sum()"
   ]
  },
  {
   "cell_type": "code",
   "execution_count": 9,
   "id": "9f42fc2b",
   "metadata": {
    "scrolled": false
   },
   "outputs": [
    {
     "data": {
      "text/html": [
       "<div>\n",
       "<style scoped>\n",
       "    .dataframe tbody tr th:only-of-type {\n",
       "        vertical-align: middle;\n",
       "    }\n",
       "\n",
       "    .dataframe tbody tr th {\n",
       "        vertical-align: top;\n",
       "    }\n",
       "\n",
       "    .dataframe thead th {\n",
       "        text-align: right;\n",
       "    }\n",
       "</style>\n",
       "<table border=\"1\" class=\"dataframe\">\n",
       "  <thead>\n",
       "    <tr style=\"text-align: right;\">\n",
       "      <th></th>\n",
       "      <th>Id</th>\n",
       "      <th>DistrictId</th>\n",
       "      <th>Rooms</th>\n",
       "      <th>Square</th>\n",
       "      <th>LifeSquare</th>\n",
       "      <th>KitchenSquare</th>\n",
       "      <th>Floor</th>\n",
       "      <th>HouseFloor</th>\n",
       "      <th>HouseYear</th>\n",
       "      <th>Ecology_1</th>\n",
       "      <th>Social_1</th>\n",
       "      <th>Social_2</th>\n",
       "      <th>Social_3</th>\n",
       "      <th>Healthcare_1</th>\n",
       "      <th>Helthcare_2</th>\n",
       "      <th>Shops_1</th>\n",
       "      <th>Price</th>\n",
       "    </tr>\n",
       "  </thead>\n",
       "  <tbody>\n",
       "    <tr>\n",
       "      <th>count</th>\n",
       "      <td>10000.00000</td>\n",
       "      <td>10000.000000</td>\n",
       "      <td>10000.000000</td>\n",
       "      <td>10000.000000</td>\n",
       "      <td>7887.000000</td>\n",
       "      <td>10000.000000</td>\n",
       "      <td>10000.000000</td>\n",
       "      <td>10000.0000</td>\n",
       "      <td>1.000000e+04</td>\n",
       "      <td>10000.000000</td>\n",
       "      <td>10000.000000</td>\n",
       "      <td>10000.000000</td>\n",
       "      <td>10000.000000</td>\n",
       "      <td>5202.000000</td>\n",
       "      <td>10000.000000</td>\n",
       "      <td>10000.000000</td>\n",
       "      <td>10000.000000</td>\n",
       "    </tr>\n",
       "    <tr>\n",
       "      <th>mean</th>\n",
       "      <td>8383.40770</td>\n",
       "      <td>50.400800</td>\n",
       "      <td>1.890500</td>\n",
       "      <td>56.315720</td>\n",
       "      <td>37.199665</td>\n",
       "      <td>6.273300</td>\n",
       "      <td>8.526700</td>\n",
       "      <td>12.6094</td>\n",
       "      <td>3.990166e+03</td>\n",
       "      <td>0.118858</td>\n",
       "      <td>24.687000</td>\n",
       "      <td>5352.157400</td>\n",
       "      <td>8.039200</td>\n",
       "      <td>1142.904419</td>\n",
       "      <td>1.319500</td>\n",
       "      <td>4.231300</td>\n",
       "      <td>214138.937500</td>\n",
       "    </tr>\n",
       "    <tr>\n",
       "      <th>std</th>\n",
       "      <td>4859.01902</td>\n",
       "      <td>43.587592</td>\n",
       "      <td>0.839522</td>\n",
       "      <td>21.058716</td>\n",
       "      <td>86.241219</td>\n",
       "      <td>28.560839</td>\n",
       "      <td>5.241148</td>\n",
       "      <td>6.7762</td>\n",
       "      <td>2.005003e+05</td>\n",
       "      <td>0.119025</td>\n",
       "      <td>17.532614</td>\n",
       "      <td>4006.799803</td>\n",
       "      <td>23.831875</td>\n",
       "      <td>1021.519470</td>\n",
       "      <td>1.493601</td>\n",
       "      <td>4.806341</td>\n",
       "      <td>92872.273438</td>\n",
       "    </tr>\n",
       "    <tr>\n",
       "      <th>min</th>\n",
       "      <td>0.00000</td>\n",
       "      <td>0.000000</td>\n",
       "      <td>0.000000</td>\n",
       "      <td>1.136859</td>\n",
       "      <td>0.370619</td>\n",
       "      <td>0.000000</td>\n",
       "      <td>1.000000</td>\n",
       "      <td>0.0000</td>\n",
       "      <td>1.910000e+03</td>\n",
       "      <td>0.000000</td>\n",
       "      <td>0.000000</td>\n",
       "      <td>168.000000</td>\n",
       "      <td>0.000000</td>\n",
       "      <td>0.000000</td>\n",
       "      <td>0.000000</td>\n",
       "      <td>0.000000</td>\n",
       "      <td>59174.777344</td>\n",
       "    </tr>\n",
       "    <tr>\n",
       "      <th>25%</th>\n",
       "      <td>4169.50000</td>\n",
       "      <td>20.000000</td>\n",
       "      <td>1.000000</td>\n",
       "      <td>41.774879</td>\n",
       "      <td>22.769833</td>\n",
       "      <td>1.000000</td>\n",
       "      <td>4.000000</td>\n",
       "      <td>9.0000</td>\n",
       "      <td>1.974000e+03</td>\n",
       "      <td>0.017647</td>\n",
       "      <td>6.000000</td>\n",
       "      <td>1564.000000</td>\n",
       "      <td>0.000000</td>\n",
       "      <td>350.000000</td>\n",
       "      <td>0.000000</td>\n",
       "      <td>1.000000</td>\n",
       "      <td>153872.628906</td>\n",
       "    </tr>\n",
       "    <tr>\n",
       "      <th>50%</th>\n",
       "      <td>8394.50000</td>\n",
       "      <td>36.000000</td>\n",
       "      <td>2.000000</td>\n",
       "      <td>52.513309</td>\n",
       "      <td>32.781261</td>\n",
       "      <td>6.000000</td>\n",
       "      <td>7.000000</td>\n",
       "      <td>13.0000</td>\n",
       "      <td>1.977000e+03</td>\n",
       "      <td>0.075424</td>\n",
       "      <td>25.000000</td>\n",
       "      <td>5285.000000</td>\n",
       "      <td>2.000000</td>\n",
       "      <td>900.000000</td>\n",
       "      <td>1.000000</td>\n",
       "      <td>3.000000</td>\n",
       "      <td>192269.648438</td>\n",
       "    </tr>\n",
       "    <tr>\n",
       "      <th>75%</th>\n",
       "      <td>12592.50000</td>\n",
       "      <td>75.000000</td>\n",
       "      <td>2.000000</td>\n",
       "      <td>65.900627</td>\n",
       "      <td>45.128803</td>\n",
       "      <td>9.000000</td>\n",
       "      <td>12.000000</td>\n",
       "      <td>17.0000</td>\n",
       "      <td>2.001000e+03</td>\n",
       "      <td>0.195781</td>\n",
       "      <td>36.000000</td>\n",
       "      <td>7227.000000</td>\n",
       "      <td>5.000000</td>\n",
       "      <td>1548.000000</td>\n",
       "      <td>2.000000</td>\n",
       "      <td>6.000000</td>\n",
       "      <td>249135.460938</td>\n",
       "    </tr>\n",
       "    <tr>\n",
       "      <th>max</th>\n",
       "      <td>16798.00000</td>\n",
       "      <td>209.000000</td>\n",
       "      <td>19.000000</td>\n",
       "      <td>641.065186</td>\n",
       "      <td>7480.592285</td>\n",
       "      <td>2014.000000</td>\n",
       "      <td>42.000000</td>\n",
       "      <td>117.0000</td>\n",
       "      <td>2.005201e+07</td>\n",
       "      <td>0.521867</td>\n",
       "      <td>74.000000</td>\n",
       "      <td>19083.000000</td>\n",
       "      <td>141.000000</td>\n",
       "      <td>4849.000000</td>\n",
       "      <td>6.000000</td>\n",
       "      <td>23.000000</td>\n",
       "      <td>633233.437500</td>\n",
       "    </tr>\n",
       "  </tbody>\n",
       "</table>\n",
       "</div>"
      ],
      "text/plain": [
       "                Id    DistrictId         Rooms        Square   LifeSquare  \\\n",
       "count  10000.00000  10000.000000  10000.000000  10000.000000  7887.000000   \n",
       "mean    8383.40770     50.400800      1.890500     56.315720    37.199665   \n",
       "std     4859.01902     43.587592      0.839522     21.058716    86.241219   \n",
       "min        0.00000      0.000000      0.000000      1.136859     0.370619   \n",
       "25%     4169.50000     20.000000      1.000000     41.774879    22.769833   \n",
       "50%     8394.50000     36.000000      2.000000     52.513309    32.781261   \n",
       "75%    12592.50000     75.000000      2.000000     65.900627    45.128803   \n",
       "max    16798.00000    209.000000     19.000000    641.065186  7480.592285   \n",
       "\n",
       "       KitchenSquare         Floor  HouseFloor     HouseYear     Ecology_1  \\\n",
       "count   10000.000000  10000.000000  10000.0000  1.000000e+04  10000.000000   \n",
       "mean        6.273300      8.526700     12.6094  3.990166e+03      0.118858   \n",
       "std        28.560839      5.241148      6.7762  2.005003e+05      0.119025   \n",
       "min         0.000000      1.000000      0.0000  1.910000e+03      0.000000   \n",
       "25%         1.000000      4.000000      9.0000  1.974000e+03      0.017647   \n",
       "50%         6.000000      7.000000     13.0000  1.977000e+03      0.075424   \n",
       "75%         9.000000     12.000000     17.0000  2.001000e+03      0.195781   \n",
       "max      2014.000000     42.000000    117.0000  2.005201e+07      0.521867   \n",
       "\n",
       "           Social_1      Social_2      Social_3  Healthcare_1   Helthcare_2  \\\n",
       "count  10000.000000  10000.000000  10000.000000   5202.000000  10000.000000   \n",
       "mean      24.687000   5352.157400      8.039200   1142.904419      1.319500   \n",
       "std       17.532614   4006.799803     23.831875   1021.519470      1.493601   \n",
       "min        0.000000    168.000000      0.000000      0.000000      0.000000   \n",
       "25%        6.000000   1564.000000      0.000000    350.000000      0.000000   \n",
       "50%       25.000000   5285.000000      2.000000    900.000000      1.000000   \n",
       "75%       36.000000   7227.000000      5.000000   1548.000000      2.000000   \n",
       "max       74.000000  19083.000000    141.000000   4849.000000      6.000000   \n",
       "\n",
       "            Shops_1          Price  \n",
       "count  10000.000000   10000.000000  \n",
       "mean       4.231300  214138.937500  \n",
       "std        4.806341   92872.273438  \n",
       "min        0.000000   59174.777344  \n",
       "25%        1.000000  153872.628906  \n",
       "50%        3.000000  192269.648438  \n",
       "75%        6.000000  249135.460938  \n",
       "max       23.000000  633233.437500  "
      ]
     },
     "execution_count": 9,
     "metadata": {},
     "output_type": "execute_result"
    }
   ],
   "source": [
    "df.describe()"
   ]
  },
  {
   "cell_type": "markdown",
   "id": "fb591e4e",
   "metadata": {},
   "source": [
    "### 6. Распределение целевой переменной"
   ]
  },
  {
   "cell_type": "code",
   "execution_count": 10,
   "id": "4abff2f2",
   "metadata": {},
   "outputs": [
    {
     "data": {
      "image/png": "[encoded data removed]",
      "text/plain": [
       "<Figure size 1152x576 with 2 Axes>"
      ]
     },
     "metadata": {
      "needs_background": "light"
     },
     "output_type": "display_data"
    }
   ],
   "source": [
    "plt.figure(figsize = (16, 8))\n",
    "\n",
    "plt.subplot(121)\n",
    "df['Price'].hist(density=False, bins=20)\n",
    "plt.ylabel('count')\n",
    "plt.xlabel('Price')\n",
    "\n",
    "plt.subplot(122)\n",
    "sns.kdeplot(df['Price'], shade=True, legend=False)\n",
    "plt.xlabel('Price')\n",
    "\n",
    "plt.suptitle('Distribution of Price')\n",
    "plt.show()"
   ]
  },
  {
   "cell_type": "markdown",
   "id": "6cde7e18",
   "metadata": {},
   "source": [
    "Выбросов нет, данные не требуют дополнительной обработки"
   ]
  },
  {
   "cell_type": "markdown",
   "id": "c9bb0525",
   "metadata": {},
   "source": [
    "### 7. Анализ признаков"
   ]
  },
  {
   "cell_type": "code",
   "execution_count": 11,
   "id": "ad16cb1e",
   "metadata": {},
   "outputs": [
    {
     "data": {
      "text/plain": [
       "['Ecology_2', 'Ecology_3', 'Shops_2']"
      ]
     },
     "execution_count": 11,
     "metadata": {},
     "output_type": "execute_result"
    }
   ],
   "source": [
    "# посмотрим все категориальные признаки\n",
    "df.select_dtypes(include = ['object', 'category']).columns.tolist()"
   ]
  },
  {
   "cell_type": "code",
   "execution_count": 12,
   "id": "b84fbe77",
   "metadata": {},
   "outputs": [
    {
     "data": {
      "image/png": "[encoded data removed]",
      "text/plain": [
       "<Figure size 1152x1152 with 16 Axes>"
      ]
     },
     "metadata": {
      "needs_background": "light"
     },
     "output_type": "display_data"
    }
   ],
   "source": [
    "# посмотрим все количественные признаки на гистограммах\n",
    "df_num_features = df.select_dtypes(include = ['float32', 'int32', 'int16', 'int8'])\n",
    "df_num_features.drop('Price', axis = 1, inplace = True)\n",
    "df_num_features.hist(figsize = (16, 16), bins = 20, grid = False);"
   ]
  },
  {
   "cell_type": "markdown",
   "id": "5a3464ea",
   "metadata": {},
   "source": [
    "### Количественные признаки"
   ]
  },
  {
   "cell_type": "markdown",
   "id": "5d8aa47c",
   "metadata": {},
   "source": [
    "#### Работа с незаполненными данными - LifeSquare и Healthcare_1"
   ]
  },
  {
   "cell_type": "markdown",
   "id": "3d90c1d4",
   "metadata": {},
   "source": [
    "#### LifeSquare"
   ]
  },
  {
   "cell_type": "code",
   "execution_count": 13,
   "id": "362eecab",
   "metadata": {},
   "outputs": [
    {
     "data": {
      "text/plain": [
       "count    7887.000000\n",
       "mean       37.199665\n",
       "std        86.241219\n",
       "min         0.370619\n",
       "25%        22.769833\n",
       "50%        32.781261\n",
       "75%        45.128803\n",
       "max      7480.592285\n",
       "Name: LifeSquare, dtype: float64"
      ]
     },
     "execution_count": 13,
     "metadata": {},
     "output_type": "execute_result"
    }
   ],
   "source": [
    "df['LifeSquare'].describe()"
   ]
  },
  {
   "cell_type": "code",
   "execution_count": 14,
   "id": "2dc94e6c",
   "metadata": {},
   "outputs": [],
   "source": [
    "# обработка выбросов\n",
    "df.loc[(df['LifeSquare'] < 10) | (df['LifeSquare'] > 100), 'LifeSquare'] = df['LifeSquare'].median()"
   ]
  },
  {
   "cell_type": "code",
   "execution_count": 15,
   "id": "a76713f1",
   "metadata": {},
   "outputs": [],
   "source": [
    "# заполним пропуски медианой\n",
    "median_lifesquare = df['LifeSquare'].median()\n",
    "df['LifeSquare'] = df['LifeSquare'].fillna(median_lifesquare)"
   ]
  },
  {
   "cell_type": "code",
   "execution_count": 16,
   "id": "38376485",
   "metadata": {},
   "outputs": [
    {
     "data": {
      "text/plain": [
       "<AxesSubplot:>"
      ]
     },
     "execution_count": 16,
     "metadata": {},
     "output_type": "execute_result"
    },
    {
     "data": {
      "image/png": "[encoded data removed]",
      "text/plain": [
       "<Figure size 432x288 with 1 Axes>"
      ]
     },
     "metadata": {
      "needs_background": "light"
     },
     "output_type": "display_data"
    }
   ],
   "source": [
    "df['LifeSquare'].hist()"
   ]
  },
  {
   "cell_type": "code",
   "execution_count": 17,
   "id": "a2540e30",
   "metadata": {},
   "outputs": [
    {
     "data": {
      "text/plain": [
       "count    10000.000000\n",
       "mean        35.433994\n",
       "std         13.467802\n",
       "min         10.523869\n",
       "25%         27.654813\n",
       "50%         32.781261\n",
       "75%         41.052148\n",
       "max         99.970062\n",
       "Name: LifeSquare, dtype: float64"
      ]
     },
     "execution_count": 17,
     "metadata": {},
     "output_type": "execute_result"
    }
   ],
   "source": [
    "df['LifeSquare'].describe()"
   ]
  },
  {
   "cell_type": "markdown",
   "id": "d128f373",
   "metadata": {},
   "source": [
    "#### Healthcare_1"
   ]
  },
  {
   "cell_type": "code",
   "execution_count": 18,
   "id": "cd9a3ad1",
   "metadata": {
    "scrolled": true
   },
   "outputs": [
    {
     "data": {
      "text/plain": [
       "count    5202.000000\n",
       "mean     1142.904419\n",
       "std      1021.519470\n",
       "min         0.000000\n",
       "25%       350.000000\n",
       "50%       900.000000\n",
       "75%      1548.000000\n",
       "max      4849.000000\n",
       "Name: Healthcare_1, dtype: float64"
      ]
     },
     "execution_count": 18,
     "metadata": {},
     "output_type": "execute_result"
    }
   ],
   "source": [
    "df['Healthcare_1'].describe()"
   ]
  },
  {
   "cell_type": "code",
   "execution_count": 19,
   "id": "4d178be9",
   "metadata": {},
   "outputs": [
    {
     "data": {
      "image/png": "[encoded data removed]",
      "text/plain": [
       "<Figure size 432x216 with 1 Axes>"
      ]
     },
     "metadata": {
      "needs_background": "light"
     },
     "output_type": "display_data"
    }
   ],
   "source": [
    "plt.figure(figsize=(6, 3))\n",
    "\n",
    "sns.boxplot(df['Healthcare_1'], whis=1.5)\n",
    "\n",
    "plt.xlabel('Healthcare_1')\n",
    "plt.show()"
   ]
  },
  {
   "cell_type": "code",
   "execution_count": 20,
   "id": "bd3907ec",
   "metadata": {},
   "outputs": [],
   "source": [
    "df.loc[df['Healthcare_1'] > 3000, 'Healthcare_1' ] = df['Healthcare_1'].median()"
   ]
  },
  {
   "cell_type": "code",
   "execution_count": 21,
   "id": "2afaea3b",
   "metadata": {},
   "outputs": [],
   "source": [
    "median_healthcare1 = df['Healthcare_1'].median()\n",
    "df['Healthcare_1'] = df['Healthcare_1'].fillna(median_healthcare1)"
   ]
  },
  {
   "cell_type": "code",
   "execution_count": 22,
   "id": "c78a5fbc",
   "metadata": {},
   "outputs": [
    {
     "data": {
      "text/plain": [
       "<AxesSubplot:>"
      ]
     },
     "execution_count": 22,
     "metadata": {},
     "output_type": "execute_result"
    },
    {
     "data": {
      "image/png": "[encoded data removed]",
      "text/plain": [
       "<Figure size 432x288 with 1 Axes>"
      ]
     },
     "metadata": {
      "needs_background": "light"
     },
     "output_type": "display_data"
    }
   ],
   "source": [
    "df['Healthcare_1'].hist()"
   ]
  },
  {
   "cell_type": "code",
   "execution_count": 23,
   "id": "991e055d",
   "metadata": {},
   "outputs": [
    {
     "data": {
      "text/plain": [
       "count    10000.000000\n",
       "mean       944.553406\n",
       "std        550.864868\n",
       "min          0.000000\n",
       "25%        830.000000\n",
       "50%        900.000000\n",
       "75%        900.000000\n",
       "max       2890.000000\n",
       "Name: Healthcare_1, dtype: float64"
      ]
     },
     "execution_count": 23,
     "metadata": {},
     "output_type": "execute_result"
    }
   ],
   "source": [
    "df['Healthcare_1'].describe()"
   ]
  },
  {
   "cell_type": "markdown",
   "id": "003ef2d1",
   "metadata": {},
   "source": [
    "#### Обработка признака Rooms - количество комнат"
   ]
  },
  {
   "cell_type": "code",
   "execution_count": 24,
   "id": "79fff619",
   "metadata": {
    "scrolled": true
   },
   "outputs": [
    {
     "data": {
      "text/plain": [
       "count    10000.000000\n",
       "mean         1.890500\n",
       "std          0.839522\n",
       "min          0.000000\n",
       "25%          1.000000\n",
       "50%          2.000000\n",
       "75%          2.000000\n",
       "max         19.000000\n",
       "Name: Rooms, dtype: float64"
      ]
     },
     "execution_count": 24,
     "metadata": {},
     "output_type": "execute_result"
    }
   ],
   "source": [
    "df['Rooms'].describe()"
   ]
  },
  {
   "cell_type": "code",
   "execution_count": 25,
   "id": "30c3f5ca",
   "metadata": {},
   "outputs": [
    {
     "data": {
      "image/png": "[encoded data removed]",
      "text/plain": [
       "<Figure size 432x216 with 1 Axes>"
      ]
     },
     "metadata": {
      "needs_background": "light"
     },
     "output_type": "display_data"
    }
   ],
   "source": [
    "plt.figure(figsize=(6, 3))\n",
    "\n",
    "sns.boxplot(df['Rooms'], whis=1.5)\n",
    "\n",
    "plt.xlabel('Rooms')\n",
    "plt.show()"
   ]
  },
  {
   "cell_type": "code",
   "execution_count": 26,
   "id": "33a906de",
   "metadata": {},
   "outputs": [],
   "source": [
    "df.loc[(df['Rooms'] > 5) | (df['Rooms'] < 1), 'Rooms'] = df['Rooms'].median()"
   ]
  },
  {
   "cell_type": "code",
   "execution_count": 27,
   "id": "95ed06b0",
   "metadata": {},
   "outputs": [
    {
     "data": {
      "text/plain": [
       "count    10000.000000\n",
       "mean         1.888400\n",
       "std          0.811071\n",
       "min          1.000000\n",
       "25%          1.000000\n",
       "50%          2.000000\n",
       "75%          2.000000\n",
       "max          5.000000\n",
       "Name: Rooms, dtype: float64"
      ]
     },
     "execution_count": 27,
     "metadata": {},
     "output_type": "execute_result"
    }
   ],
   "source": [
    "df['Rooms'].describe()"
   ]
  },
  {
   "cell_type": "code",
   "execution_count": 28,
   "id": "1d6fe657",
   "metadata": {},
   "outputs": [
    {
     "data": {
      "text/plain": [
       "Float64Index([2.0, 1.0, 3.0, 4.0, 5.0], dtype='float64')"
      ]
     },
     "execution_count": 28,
     "metadata": {},
     "output_type": "execute_result"
    }
   ],
   "source": [
    "df['Rooms'].value_counts().index"
   ]
  },
  {
   "cell_type": "markdown",
   "id": "0c766859",
   "metadata": {},
   "source": [
    "#### Обработка признака Square - общая площадь"
   ]
  },
  {
   "cell_type": "code",
   "execution_count": 29,
   "id": "438502cc",
   "metadata": {},
   "outputs": [
    {
     "data": {
      "text/plain": [
       "count    10000.000000\n",
       "mean        56.315720\n",
       "std         21.058716\n",
       "min          1.136859\n",
       "25%         41.774879\n",
       "50%         52.513309\n",
       "75%         65.900627\n",
       "max        641.065186\n",
       "Name: Square, dtype: float64"
      ]
     },
     "execution_count": 29,
     "metadata": {},
     "output_type": "execute_result"
    }
   ],
   "source": [
    "df['Square'].describe()"
   ]
  },
  {
   "cell_type": "code",
   "execution_count": 30,
   "id": "26f68ae6",
   "metadata": {},
   "outputs": [
    {
     "data": {
      "image/png": "[encoded data removed]",
      "text/plain": [
       "<Figure size 432x288 with 1 Axes>"
      ]
     },
     "metadata": {
      "needs_background": "light"
     },
     "output_type": "display_data"
    }
   ],
   "source": [
    "df.loc[(df['Square'] > 130) | (df['Square'] < 18), 'Square'] = df['Square'].median()\n",
    "df['Square'].hist();"
   ]
  },
  {
   "cell_type": "code",
   "execution_count": 31,
   "id": "2fc973a8",
   "metadata": {},
   "outputs": [
    {
     "data": {
      "text/plain": [
       "count    10000.000000\n",
       "mean        55.734982\n",
       "std         17.580727\n",
       "min         18.509176\n",
       "25%         41.807906\n",
       "50%         52.513309\n",
       "75%         65.684193\n",
       "max        129.998749\n",
       "Name: Square, dtype: float64"
      ]
     },
     "execution_count": 31,
     "metadata": {},
     "output_type": "execute_result"
    }
   ],
   "source": [
    "df['Square'].describe()"
   ]
  },
  {
   "cell_type": "markdown",
   "id": "f4279b7e",
   "metadata": {},
   "source": [
    "#### Обработка признака KitchenSquare - площадь кухни"
   ]
  },
  {
   "cell_type": "code",
   "execution_count": 32,
   "id": "f9504882",
   "metadata": {
    "scrolled": true
   },
   "outputs": [
    {
     "data": {
      "text/plain": [
       "count    10000.000000\n",
       "mean         6.273300\n",
       "std         28.560839\n",
       "min          0.000000\n",
       "25%          1.000000\n",
       "50%          6.000000\n",
       "75%          9.000000\n",
       "max       2014.000000\n",
       "Name: KitchenSquare, dtype: float64"
      ]
     },
     "execution_count": 32,
     "metadata": {},
     "output_type": "execute_result"
    }
   ],
   "source": [
    "df['KitchenSquare'].describe()"
   ]
  },
  {
   "cell_type": "code",
   "execution_count": 33,
   "id": "d5baaa3b",
   "metadata": {},
   "outputs": [],
   "source": [
    "df.loc[(df['KitchenSquare'] > 20) | (df['KitchenSquare'] < 5), 'KitchenSquare'] = df['KitchenSquare'].median()"
   ]
  },
  {
   "cell_type": "code",
   "execution_count": 34,
   "id": "876faf3b",
   "metadata": {},
   "outputs": [
    {
     "data": {
      "image/png": "[encoded data removed]",
      "text/plain": [
       "<Figure size 432x288 with 1 Axes>"
      ]
     },
     "metadata": {
      "needs_background": "light"
     },
     "output_type": "display_data"
    }
   ],
   "source": [
    "df['KitchenSquare'].hist();"
   ]
  },
  {
   "cell_type": "code",
   "execution_count": 35,
   "id": "129bc47e",
   "metadata": {
    "scrolled": true
   },
   "outputs": [
    {
     "data": {
      "text/plain": [
       "count    10000.000000\n",
       "mean         7.339900\n",
       "std          2.149602\n",
       "min          5.000000\n",
       "25%          6.000000\n",
       "50%          6.000000\n",
       "75%          9.000000\n",
       "max         20.000000\n",
       "Name: KitchenSquare, dtype: float64"
      ]
     },
     "execution_count": 35,
     "metadata": {},
     "output_type": "execute_result"
    }
   ],
   "source": [
    "df['KitchenSquare'].describe()"
   ]
  },
  {
   "cell_type": "code",
   "execution_count": 36,
   "id": "e688ba64",
   "metadata": {},
   "outputs": [
    {
     "data": {
      "text/html": [
       "<div>\n",
       "<style scoped>\n",
       "    .dataframe tbody tr th:only-of-type {\n",
       "        vertical-align: middle;\n",
       "    }\n",
       "\n",
       "    .dataframe tbody tr th {\n",
       "        vertical-align: top;\n",
       "    }\n",
       "\n",
       "    .dataframe thead th {\n",
       "        text-align: right;\n",
       "    }\n",
       "</style>\n",
       "<table border=\"1\" class=\"dataframe\">\n",
       "  <thead>\n",
       "    <tr style=\"text-align: right;\">\n",
       "      <th></th>\n",
       "      <th>Id</th>\n",
       "      <th>DistrictId</th>\n",
       "      <th>Rooms</th>\n",
       "      <th>Square</th>\n",
       "      <th>LifeSquare</th>\n",
       "      <th>KitchenSquare</th>\n",
       "      <th>Floor</th>\n",
       "      <th>HouseFloor</th>\n",
       "      <th>HouseYear</th>\n",
       "      <th>Ecology_1</th>\n",
       "      <th>Ecology_2</th>\n",
       "      <th>Ecology_3</th>\n",
       "      <th>Social_1</th>\n",
       "      <th>Social_2</th>\n",
       "      <th>Social_3</th>\n",
       "      <th>Healthcare_1</th>\n",
       "      <th>Helthcare_2</th>\n",
       "      <th>Shops_1</th>\n",
       "      <th>Shops_2</th>\n",
       "      <th>Price</th>\n",
       "    </tr>\n",
       "  </thead>\n",
       "  <tbody>\n",
       "    <tr>\n",
       "      <th>8</th>\n",
       "      <td>9951</td>\n",
       "      <td>1</td>\n",
       "      <td>1.0</td>\n",
       "      <td>46.887894</td>\n",
       "      <td>44.628132</td>\n",
       "      <td>6.0</td>\n",
       "      <td>12</td>\n",
       "      <td>20.0</td>\n",
       "      <td>1977</td>\n",
       "      <td>0.007122</td>\n",
       "      <td>B</td>\n",
       "      <td>B</td>\n",
       "      <td>1</td>\n",
       "      <td>264</td>\n",
       "      <td>0</td>\n",
       "      <td>900.0</td>\n",
       "      <td>0</td>\n",
       "      <td>1</td>\n",
       "      <td>B</td>\n",
       "      <td>160400.406250</td>\n",
       "    </tr>\n",
       "    <tr>\n",
       "      <th>9</th>\n",
       "      <td>8094</td>\n",
       "      <td>6</td>\n",
       "      <td>3.0</td>\n",
       "      <td>79.867477</td>\n",
       "      <td>75.085129</td>\n",
       "      <td>6.0</td>\n",
       "      <td>3</td>\n",
       "      <td>17.0</td>\n",
       "      <td>2014</td>\n",
       "      <td>0.243205</td>\n",
       "      <td>B</td>\n",
       "      <td>B</td>\n",
       "      <td>5</td>\n",
       "      <td>1564</td>\n",
       "      <td>0</td>\n",
       "      <td>540.0</td>\n",
       "      <td>0</td>\n",
       "      <td>0</td>\n",
       "      <td>B</td>\n",
       "      <td>194756.031250</td>\n",
       "    </tr>\n",
       "    <tr>\n",
       "      <th>19</th>\n",
       "      <td>367</td>\n",
       "      <td>45</td>\n",
       "      <td>1.0</td>\n",
       "      <td>42.367290</td>\n",
       "      <td>40.012527</td>\n",
       "      <td>6.0</td>\n",
       "      <td>16</td>\n",
       "      <td>14.0</td>\n",
       "      <td>2015</td>\n",
       "      <td>0.195781</td>\n",
       "      <td>B</td>\n",
       "      <td>B</td>\n",
       "      <td>23</td>\n",
       "      <td>5212</td>\n",
       "      <td>6</td>\n",
       "      <td>900.0</td>\n",
       "      <td>3</td>\n",
       "      <td>2</td>\n",
       "      <td>B</td>\n",
       "      <td>250466.984375</td>\n",
       "    </tr>\n",
       "    <tr>\n",
       "      <th>33</th>\n",
       "      <td>847</td>\n",
       "      <td>74</td>\n",
       "      <td>2.0</td>\n",
       "      <td>73.314972</td>\n",
       "      <td>74.131264</td>\n",
       "      <td>6.0</td>\n",
       "      <td>7</td>\n",
       "      <td>6.0</td>\n",
       "      <td>1977</td>\n",
       "      <td>0.075779</td>\n",
       "      <td>B</td>\n",
       "      <td>B</td>\n",
       "      <td>6</td>\n",
       "      <td>1437</td>\n",
       "      <td>3</td>\n",
       "      <td>900.0</td>\n",
       "      <td>0</td>\n",
       "      <td>2</td>\n",
       "      <td>B</td>\n",
       "      <td>254005.375000</td>\n",
       "    </tr>\n",
       "    <tr>\n",
       "      <th>34</th>\n",
       "      <td>7757</td>\n",
       "      <td>27</td>\n",
       "      <td>2.0</td>\n",
       "      <td>58.783661</td>\n",
       "      <td>55.441257</td>\n",
       "      <td>11.0</td>\n",
       "      <td>13</td>\n",
       "      <td>12.0</td>\n",
       "      <td>1977</td>\n",
       "      <td>0.011654</td>\n",
       "      <td>B</td>\n",
       "      <td>B</td>\n",
       "      <td>4</td>\n",
       "      <td>915</td>\n",
       "      <td>0</td>\n",
       "      <td>900.0</td>\n",
       "      <td>0</td>\n",
       "      <td>0</td>\n",
       "      <td>B</td>\n",
       "      <td>138396.984375</td>\n",
       "    </tr>\n",
       "    <tr>\n",
       "      <th>...</th>\n",
       "      <td>...</td>\n",
       "      <td>...</td>\n",
       "      <td>...</td>\n",
       "      <td>...</td>\n",
       "      <td>...</td>\n",
       "      <td>...</td>\n",
       "      <td>...</td>\n",
       "      <td>...</td>\n",
       "      <td>...</td>\n",
       "      <td>...</td>\n",
       "      <td>...</td>\n",
       "      <td>...</td>\n",
       "      <td>...</td>\n",
       "      <td>...</td>\n",
       "      <td>...</td>\n",
       "      <td>...</td>\n",
       "      <td>...</td>\n",
       "      <td>...</td>\n",
       "      <td>...</td>\n",
       "      <td>...</td>\n",
       "    </tr>\n",
       "    <tr>\n",
       "      <th>9965</th>\n",
       "      <td>6441</td>\n",
       "      <td>52</td>\n",
       "      <td>3.0</td>\n",
       "      <td>85.796883</td>\n",
       "      <td>85.305244</td>\n",
       "      <td>6.0</td>\n",
       "      <td>15</td>\n",
       "      <td>17.0</td>\n",
       "      <td>1977</td>\n",
       "      <td>0.371149</td>\n",
       "      <td>B</td>\n",
       "      <td>B</td>\n",
       "      <td>34</td>\n",
       "      <td>7065</td>\n",
       "      <td>1</td>\n",
       "      <td>750.0</td>\n",
       "      <td>2</td>\n",
       "      <td>5</td>\n",
       "      <td>B</td>\n",
       "      <td>204462.984375</td>\n",
       "    </tr>\n",
       "    <tr>\n",
       "      <th>9979</th>\n",
       "      <td>2201</td>\n",
       "      <td>6</td>\n",
       "      <td>1.0</td>\n",
       "      <td>40.043236</td>\n",
       "      <td>41.984322</td>\n",
       "      <td>6.0</td>\n",
       "      <td>3</td>\n",
       "      <td>17.0</td>\n",
       "      <td>2014</td>\n",
       "      <td>0.243205</td>\n",
       "      <td>B</td>\n",
       "      <td>B</td>\n",
       "      <td>5</td>\n",
       "      <td>1564</td>\n",
       "      <td>0</td>\n",
       "      <td>540.0</td>\n",
       "      <td>0</td>\n",
       "      <td>0</td>\n",
       "      <td>B</td>\n",
       "      <td>134888.078125</td>\n",
       "    </tr>\n",
       "    <tr>\n",
       "      <th>9982</th>\n",
       "      <td>10268</td>\n",
       "      <td>27</td>\n",
       "      <td>1.0</td>\n",
       "      <td>36.112392</td>\n",
       "      <td>32.781261</td>\n",
       "      <td>6.0</td>\n",
       "      <td>9</td>\n",
       "      <td>16.0</td>\n",
       "      <td>1977</td>\n",
       "      <td>0.211401</td>\n",
       "      <td>B</td>\n",
       "      <td>B</td>\n",
       "      <td>9</td>\n",
       "      <td>1892</td>\n",
       "      <td>0</td>\n",
       "      <td>900.0</td>\n",
       "      <td>0</td>\n",
       "      <td>1</td>\n",
       "      <td>B</td>\n",
       "      <td>94881.695312</td>\n",
       "    </tr>\n",
       "    <tr>\n",
       "      <th>9987</th>\n",
       "      <td>11665</td>\n",
       "      <td>1</td>\n",
       "      <td>2.0</td>\n",
       "      <td>62.690056</td>\n",
       "      <td>64.602936</td>\n",
       "      <td>10.0</td>\n",
       "      <td>19</td>\n",
       "      <td>22.0</td>\n",
       "      <td>2018</td>\n",
       "      <td>0.007122</td>\n",
       "      <td>B</td>\n",
       "      <td>B</td>\n",
       "      <td>1</td>\n",
       "      <td>264</td>\n",
       "      <td>0</td>\n",
       "      <td>900.0</td>\n",
       "      <td>0</td>\n",
       "      <td>1</td>\n",
       "      <td>B</td>\n",
       "      <td>203908.187500</td>\n",
       "    </tr>\n",
       "    <tr>\n",
       "      <th>9993</th>\n",
       "      <td>9289</td>\n",
       "      <td>1</td>\n",
       "      <td>3.0</td>\n",
       "      <td>84.486076</td>\n",
       "      <td>88.931511</td>\n",
       "      <td>6.0</td>\n",
       "      <td>4</td>\n",
       "      <td>22.0</td>\n",
       "      <td>2016</td>\n",
       "      <td>0.007122</td>\n",
       "      <td>B</td>\n",
       "      <td>B</td>\n",
       "      <td>1</td>\n",
       "      <td>264</td>\n",
       "      <td>0</td>\n",
       "      <td>900.0</td>\n",
       "      <td>0</td>\n",
       "      <td>1</td>\n",
       "      <td>B</td>\n",
       "      <td>264213.562500</td>\n",
       "    </tr>\n",
       "  </tbody>\n",
       "</table>\n",
       "<p>1335 rows × 20 columns</p>\n",
       "</div>"
      ],
      "text/plain": [
       "         Id  DistrictId  Rooms     Square  LifeSquare  KitchenSquare  Floor  \\\n",
       "8      9951           1    1.0  46.887894   44.628132            6.0     12   \n",
       "9      8094           6    3.0  79.867477   75.085129            6.0      3   \n",
       "19      367          45    1.0  42.367290   40.012527            6.0     16   \n",
       "33      847          74    2.0  73.314972   74.131264            6.0      7   \n",
       "34     7757          27    2.0  58.783661   55.441257           11.0     13   \n",
       "...     ...         ...    ...        ...         ...            ...    ...   \n",
       "9965   6441          52    3.0  85.796883   85.305244            6.0     15   \n",
       "9979   2201           6    1.0  40.043236   41.984322            6.0      3   \n",
       "9982  10268          27    1.0  36.112392   32.781261            6.0      9   \n",
       "9987  11665           1    2.0  62.690056   64.602936           10.0     19   \n",
       "9993   9289           1    3.0  84.486076   88.931511            6.0      4   \n",
       "\n",
       "      HouseFloor  HouseYear  Ecology_1 Ecology_2 Ecology_3  Social_1  \\\n",
       "8           20.0       1977   0.007122         B         B         1   \n",
       "9           17.0       2014   0.243205         B         B         5   \n",
       "19          14.0       2015   0.195781         B         B        23   \n",
       "33           6.0       1977   0.075779         B         B         6   \n",
       "34          12.0       1977   0.011654         B         B         4   \n",
       "...          ...        ...        ...       ...       ...       ...   \n",
       "9965        17.0       1977   0.371149         B         B        34   \n",
       "9979        17.0       2014   0.243205         B         B         5   \n",
       "9982        16.0       1977   0.211401         B         B         9   \n",
       "9987        22.0       2018   0.007122         B         B         1   \n",
       "9993        22.0       2016   0.007122         B         B         1   \n",
       "\n",
       "      Social_2  Social_3  Healthcare_1  Helthcare_2  Shops_1 Shops_2  \\\n",
       "8          264         0         900.0            0        1       B   \n",
       "9         1564         0         540.0            0        0       B   \n",
       "19        5212         6         900.0            3        2       B   \n",
       "33        1437         3         900.0            0        2       B   \n",
       "34         915         0         900.0            0        0       B   \n",
       "...        ...       ...           ...          ...      ...     ...   \n",
       "9965      7065         1         750.0            2        5       B   \n",
       "9979      1564         0         540.0            0        0       B   \n",
       "9982      1892         0         900.0            0        1       B   \n",
       "9987       264         0         900.0            0        1       B   \n",
       "9993       264         0         900.0            0        1       B   \n",
       "\n",
       "              Price  \n",
       "8     160400.406250  \n",
       "9     194756.031250  \n",
       "19    250466.984375  \n",
       "33    254005.375000  \n",
       "34    138396.984375  \n",
       "...             ...  \n",
       "9965  204462.984375  \n",
       "9979  134888.078125  \n",
       "9982   94881.695312  \n",
       "9987  203908.187500  \n",
       "9993  264213.562500  \n",
       "\n",
       "[1335 rows x 20 columns]"
      ]
     },
     "execution_count": 36,
     "metadata": {},
     "output_type": "execute_result"
    }
   ],
   "source": [
    "df[((df['LifeSquare'] + df['KitchenSquare']) > df['Square'])]"
   ]
  },
  {
   "cell_type": "code",
   "execution_count": 37,
   "id": "88dd66bb",
   "metadata": {},
   "outputs": [],
   "source": [
    "df.loc[((df['LifeSquare'] + df['KitchenSquare']) > df['Square']), ['LifeSquare', 'KitchenSquare']] = df[['LifeSquare', 'KitchenSquare']].median()"
   ]
  },
  {
   "cell_type": "code",
   "execution_count": 38,
   "id": "dc0b39fa",
   "metadata": {
    "scrolled": true
   },
   "outputs": [
    {
     "data": {
      "text/plain": [
       "<AxesSubplot:>"
      ]
     },
     "execution_count": 38,
     "metadata": {},
     "output_type": "execute_result"
    },
    {
     "data": {
      "image/png": "[encoded data removed]",
      "text/plain": [
       "<Figure size 432x288 with 1 Axes>"
      ]
     },
     "metadata": {
      "needs_background": "light"
     },
     "output_type": "display_data"
    }
   ],
   "source": [
    "df['Square'].hist()"
   ]
  },
  {
   "cell_type": "markdown",
   "id": "1d5afe77",
   "metadata": {},
   "source": [
    "#### Обработка признака Floor - этаж"
   ]
  },
  {
   "cell_type": "code",
   "execution_count": 39,
   "id": "50fb4211",
   "metadata": {
    "scrolled": false
   },
   "outputs": [
    {
     "data": {
      "text/plain": [
       "count    10000.000000\n",
       "mean         8.526700\n",
       "std          5.241148\n",
       "min          1.000000\n",
       "25%          4.000000\n",
       "50%          7.000000\n",
       "75%         12.000000\n",
       "max         42.000000\n",
       "Name: Floor, dtype: float64"
      ]
     },
     "execution_count": 39,
     "metadata": {},
     "output_type": "execute_result"
    }
   ],
   "source": [
    "df['Floor'].describe()"
   ]
  },
  {
   "cell_type": "markdown",
   "id": "a510aa36",
   "metadata": {},
   "source": [
    "Данные не требуют обработки"
   ]
  },
  {
   "cell_type": "markdown",
   "id": "be30ec8c",
   "metadata": {},
   "source": [
    "#### Обработка признака HouseFloor - этажность дома"
   ]
  },
  {
   "cell_type": "code",
   "execution_count": 40,
   "id": "86175688",
   "metadata": {},
   "outputs": [
    {
     "data": {
      "text/plain": [
       "count    10000.0000\n",
       "mean        12.6094\n",
       "std          6.7762\n",
       "min          0.0000\n",
       "25%          9.0000\n",
       "50%         13.0000\n",
       "75%         17.0000\n",
       "max        117.0000\n",
       "Name: HouseFloor, dtype: float64"
      ]
     },
     "execution_count": 40,
     "metadata": {},
     "output_type": "execute_result"
    }
   ],
   "source": [
    "df['HouseFloor'].describe()"
   ]
  },
  {
   "cell_type": "code",
   "execution_count": 41,
   "id": "5bef60c8",
   "metadata": {},
   "outputs": [
    {
     "data": {
      "image/png": "[encoded data removed]",
      "text/plain": [
       "<Figure size 432x216 with 1 Axes>"
      ]
     },
     "metadata": {
      "needs_background": "light"
     },
     "output_type": "display_data"
    }
   ],
   "source": [
    "plt.figure(figsize=(6, 3))\n",
    "\n",
    "sns.boxplot(df['HouseFloor'], whis=1.5)\n",
    "\n",
    "plt.xlabel('HouseFloor')\n",
    "plt.show()"
   ]
  },
  {
   "cell_type": "code",
   "execution_count": 42,
   "id": "b707bb7a",
   "metadata": {},
   "outputs": [
    {
     "data": {
      "image/png": "[encoded data removed]",
      "text/plain": [
       "<Figure size 432x288 with 1 Axes>"
      ]
     },
     "metadata": {
      "needs_background": "light"
     },
     "output_type": "display_data"
    }
   ],
   "source": [
    "df.loc[(df['HouseFloor'] < 1) | (df['HouseFloor'] > 45), 'HouseFloor'] = df['HouseFloor'].median()\n",
    "df['HouseFloor'].hist();"
   ]
  },
  {
   "cell_type": "code",
   "execution_count": 43,
   "id": "8eceaf16",
   "metadata": {
    "scrolled": true
   },
   "outputs": [
    {
     "data": {
      "text/plain": [
       "count    10000.000000\n",
       "mean        12.921100\n",
       "std          6.212187\n",
       "min          1.000000\n",
       "25%          9.000000\n",
       "50%         13.000000\n",
       "75%         17.000000\n",
       "max         45.000000\n",
       "Name: HouseFloor, dtype: float64"
      ]
     },
     "execution_count": 43,
     "metadata": {},
     "output_type": "execute_result"
    }
   ],
   "source": [
    "df['HouseFloor'].describe()"
   ]
  },
  {
   "cell_type": "code",
   "execution_count": 44,
   "id": "84868b81",
   "metadata": {},
   "outputs": [
    {
     "data": {
      "text/html": [
       "<div>\n",
       "<style scoped>\n",
       "    .dataframe tbody tr th:only-of-type {\n",
       "        vertical-align: middle;\n",
       "    }\n",
       "\n",
       "    .dataframe tbody tr th {\n",
       "        vertical-align: top;\n",
       "    }\n",
       "\n",
       "    .dataframe thead th {\n",
       "        text-align: right;\n",
       "    }\n",
       "</style>\n",
       "<table border=\"1\" class=\"dataframe\">\n",
       "  <thead>\n",
       "    <tr style=\"text-align: right;\">\n",
       "      <th></th>\n",
       "      <th>Id</th>\n",
       "      <th>DistrictId</th>\n",
       "      <th>Rooms</th>\n",
       "      <th>Square</th>\n",
       "      <th>LifeSquare</th>\n",
       "      <th>KitchenSquare</th>\n",
       "      <th>Floor</th>\n",
       "      <th>HouseFloor</th>\n",
       "      <th>HouseYear</th>\n",
       "      <th>Ecology_1</th>\n",
       "      <th>Ecology_2</th>\n",
       "      <th>Ecology_3</th>\n",
       "      <th>Social_1</th>\n",
       "      <th>Social_2</th>\n",
       "      <th>Social_3</th>\n",
       "      <th>Healthcare_1</th>\n",
       "      <th>Helthcare_2</th>\n",
       "      <th>Shops_1</th>\n",
       "      <th>Shops_2</th>\n",
       "      <th>Price</th>\n",
       "    </tr>\n",
       "  </thead>\n",
       "  <tbody>\n",
       "    <tr>\n",
       "      <th>17</th>\n",
       "      <td>1190</td>\n",
       "      <td>8</td>\n",
       "      <td>2.0</td>\n",
       "      <td>49.396000</td>\n",
       "      <td>28.299601</td>\n",
       "      <td>5.0</td>\n",
       "      <td>6</td>\n",
       "      <td>5.0</td>\n",
       "      <td>1962</td>\n",
       "      <td>0.458174</td>\n",
       "      <td>B</td>\n",
       "      <td>A</td>\n",
       "      <td>26</td>\n",
       "      <td>4439</td>\n",
       "      <td>1</td>\n",
       "      <td>1130.0</td>\n",
       "      <td>1</td>\n",
       "      <td>5</td>\n",
       "      <td>B</td>\n",
       "      <td>186971.921875</td>\n",
       "    </tr>\n",
       "    <tr>\n",
       "      <th>19</th>\n",
       "      <td>367</td>\n",
       "      <td>45</td>\n",
       "      <td>1.0</td>\n",
       "      <td>42.367290</td>\n",
       "      <td>NaN</td>\n",
       "      <td>NaN</td>\n",
       "      <td>16</td>\n",
       "      <td>14.0</td>\n",
       "      <td>2015</td>\n",
       "      <td>0.195781</td>\n",
       "      <td>B</td>\n",
       "      <td>B</td>\n",
       "      <td>23</td>\n",
       "      <td>5212</td>\n",
       "      <td>6</td>\n",
       "      <td>900.0</td>\n",
       "      <td>3</td>\n",
       "      <td>2</td>\n",
       "      <td>B</td>\n",
       "      <td>250466.984375</td>\n",
       "    </tr>\n",
       "    <tr>\n",
       "      <th>21</th>\n",
       "      <td>8471</td>\n",
       "      <td>20</td>\n",
       "      <td>3.0</td>\n",
       "      <td>75.611061</td>\n",
       "      <td>47.494621</td>\n",
       "      <td>8.0</td>\n",
       "      <td>11</td>\n",
       "      <td>9.0</td>\n",
       "      <td>1976</td>\n",
       "      <td>0.019509</td>\n",
       "      <td>B</td>\n",
       "      <td>B</td>\n",
       "      <td>37</td>\n",
       "      <td>7687</td>\n",
       "      <td>11</td>\n",
       "      <td>176.0</td>\n",
       "      <td>5</td>\n",
       "      <td>5</td>\n",
       "      <td>B</td>\n",
       "      <td>366916.250000</td>\n",
       "    </tr>\n",
       "    <tr>\n",
       "      <th>25</th>\n",
       "      <td>4521</td>\n",
       "      <td>6</td>\n",
       "      <td>2.0</td>\n",
       "      <td>65.409966</td>\n",
       "      <td>32.781261</td>\n",
       "      <td>6.0</td>\n",
       "      <td>18</td>\n",
       "      <td>1.0</td>\n",
       "      <td>1977</td>\n",
       "      <td>0.243205</td>\n",
       "      <td>B</td>\n",
       "      <td>B</td>\n",
       "      <td>5</td>\n",
       "      <td>1564</td>\n",
       "      <td>0</td>\n",
       "      <td>540.0</td>\n",
       "      <td>0</td>\n",
       "      <td>0</td>\n",
       "      <td>B</td>\n",
       "      <td>191205.265625</td>\n",
       "    </tr>\n",
       "    <tr>\n",
       "      <th>26</th>\n",
       "      <td>8553</td>\n",
       "      <td>88</td>\n",
       "      <td>3.0</td>\n",
       "      <td>83.262527</td>\n",
       "      <td>32.781261</td>\n",
       "      <td>6.0</td>\n",
       "      <td>13</td>\n",
       "      <td>1.0</td>\n",
       "      <td>1977</td>\n",
       "      <td>0.127376</td>\n",
       "      <td>B</td>\n",
       "      <td>B</td>\n",
       "      <td>43</td>\n",
       "      <td>8429</td>\n",
       "      <td>3</td>\n",
       "      <td>900.0</td>\n",
       "      <td>3</td>\n",
       "      <td>9</td>\n",
       "      <td>B</td>\n",
       "      <td>410883.906250</td>\n",
       "    </tr>\n",
       "    <tr>\n",
       "      <th>...</th>\n",
       "      <td>...</td>\n",
       "      <td>...</td>\n",
       "      <td>...</td>\n",
       "      <td>...</td>\n",
       "      <td>...</td>\n",
       "      <td>...</td>\n",
       "      <td>...</td>\n",
       "      <td>...</td>\n",
       "      <td>...</td>\n",
       "      <td>...</td>\n",
       "      <td>...</td>\n",
       "      <td>...</td>\n",
       "      <td>...</td>\n",
       "      <td>...</td>\n",
       "      <td>...</td>\n",
       "      <td>...</td>\n",
       "      <td>...</td>\n",
       "      <td>...</td>\n",
       "      <td>...</td>\n",
       "      <td>...</td>\n",
       "    </tr>\n",
       "    <tr>\n",
       "      <th>9953</th>\n",
       "      <td>7659</td>\n",
       "      <td>57</td>\n",
       "      <td>1.0</td>\n",
       "      <td>38.485252</td>\n",
       "      <td>22.550608</td>\n",
       "      <td>8.0</td>\n",
       "      <td>19</td>\n",
       "      <td>17.0</td>\n",
       "      <td>1992</td>\n",
       "      <td>0.133215</td>\n",
       "      <td>B</td>\n",
       "      <td>B</td>\n",
       "      <td>49</td>\n",
       "      <td>11395</td>\n",
       "      <td>3</td>\n",
       "      <td>1406.0</td>\n",
       "      <td>3</td>\n",
       "      <td>4</td>\n",
       "      <td>A</td>\n",
       "      <td>183485.281250</td>\n",
       "    </tr>\n",
       "    <tr>\n",
       "      <th>9960</th>\n",
       "      <td>16258</td>\n",
       "      <td>48</td>\n",
       "      <td>3.0</td>\n",
       "      <td>96.056786</td>\n",
       "      <td>NaN</td>\n",
       "      <td>NaN</td>\n",
       "      <td>15</td>\n",
       "      <td>1.0</td>\n",
       "      <td>2017</td>\n",
       "      <td>0.041125</td>\n",
       "      <td>B</td>\n",
       "      <td>B</td>\n",
       "      <td>46</td>\n",
       "      <td>9515</td>\n",
       "      <td>5</td>\n",
       "      <td>900.0</td>\n",
       "      <td>1</td>\n",
       "      <td>10</td>\n",
       "      <td>B</td>\n",
       "      <td>524365.562500</td>\n",
       "    </tr>\n",
       "    <tr>\n",
       "      <th>9968</th>\n",
       "      <td>9920</td>\n",
       "      <td>1</td>\n",
       "      <td>3.0</td>\n",
       "      <td>86.487549</td>\n",
       "      <td>32.781261</td>\n",
       "      <td>6.0</td>\n",
       "      <td>18</td>\n",
       "      <td>17.0</td>\n",
       "      <td>1977</td>\n",
       "      <td>0.007122</td>\n",
       "      <td>B</td>\n",
       "      <td>B</td>\n",
       "      <td>1</td>\n",
       "      <td>264</td>\n",
       "      <td>0</td>\n",
       "      <td>900.0</td>\n",
       "      <td>0</td>\n",
       "      <td>1</td>\n",
       "      <td>B</td>\n",
       "      <td>248248.937500</td>\n",
       "    </tr>\n",
       "    <tr>\n",
       "      <th>9970</th>\n",
       "      <td>13501</td>\n",
       "      <td>6</td>\n",
       "      <td>1.0</td>\n",
       "      <td>41.310417</td>\n",
       "      <td>19.117077</td>\n",
       "      <td>9.0</td>\n",
       "      <td>18</td>\n",
       "      <td>17.0</td>\n",
       "      <td>1977</td>\n",
       "      <td>0.243205</td>\n",
       "      <td>B</td>\n",
       "      <td>B</td>\n",
       "      <td>5</td>\n",
       "      <td>1564</td>\n",
       "      <td>0</td>\n",
       "      <td>540.0</td>\n",
       "      <td>0</td>\n",
       "      <td>0</td>\n",
       "      <td>B</td>\n",
       "      <td>114878.828125</td>\n",
       "    </tr>\n",
       "    <tr>\n",
       "      <th>9975</th>\n",
       "      <td>4944</td>\n",
       "      <td>6</td>\n",
       "      <td>2.0</td>\n",
       "      <td>52.573132</td>\n",
       "      <td>32.781261</td>\n",
       "      <td>6.0</td>\n",
       "      <td>18</td>\n",
       "      <td>17.0</td>\n",
       "      <td>1977</td>\n",
       "      <td>0.243205</td>\n",
       "      <td>B</td>\n",
       "      <td>B</td>\n",
       "      <td>5</td>\n",
       "      <td>1564</td>\n",
       "      <td>0</td>\n",
       "      <td>540.0</td>\n",
       "      <td>0</td>\n",
       "      <td>0</td>\n",
       "      <td>B</td>\n",
       "      <td>154366.031250</td>\n",
       "    </tr>\n",
       "  </tbody>\n",
       "</table>\n",
       "<p>1613 rows × 20 columns</p>\n",
       "</div>"
      ],
      "text/plain": [
       "         Id  DistrictId  Rooms     Square  LifeSquare  KitchenSquare  Floor  \\\n",
       "17     1190           8    2.0  49.396000   28.299601            5.0      6   \n",
       "19      367          45    1.0  42.367290         NaN            NaN     16   \n",
       "21     8471          20    3.0  75.611061   47.494621            8.0     11   \n",
       "25     4521           6    2.0  65.409966   32.781261            6.0     18   \n",
       "26     8553          88    3.0  83.262527   32.781261            6.0     13   \n",
       "...     ...         ...    ...        ...         ...            ...    ...   \n",
       "9953   7659          57    1.0  38.485252   22.550608            8.0     19   \n",
       "9960  16258          48    3.0  96.056786         NaN            NaN     15   \n",
       "9968   9920           1    3.0  86.487549   32.781261            6.0     18   \n",
       "9970  13501           6    1.0  41.310417   19.117077            9.0     18   \n",
       "9975   4944           6    2.0  52.573132   32.781261            6.0     18   \n",
       "\n",
       "      HouseFloor  HouseYear  Ecology_1 Ecology_2 Ecology_3  Social_1  \\\n",
       "17           5.0       1962   0.458174         B         A        26   \n",
       "19          14.0       2015   0.195781         B         B        23   \n",
       "21           9.0       1976   0.019509         B         B        37   \n",
       "25           1.0       1977   0.243205         B         B         5   \n",
       "26           1.0       1977   0.127376         B         B        43   \n",
       "...          ...        ...        ...       ...       ...       ...   \n",
       "9953        17.0       1992   0.133215         B         B        49   \n",
       "9960         1.0       2017   0.041125         B         B        46   \n",
       "9968        17.0       1977   0.007122         B         B         1   \n",
       "9970        17.0       1977   0.243205         B         B         5   \n",
       "9975        17.0       1977   0.243205         B         B         5   \n",
       "\n",
       "      Social_2  Social_3  Healthcare_1  Helthcare_2  Shops_1 Shops_2  \\\n",
       "17        4439         1        1130.0            1        5       B   \n",
       "19        5212         6         900.0            3        2       B   \n",
       "21        7687        11         176.0            5        5       B   \n",
       "25        1564         0         540.0            0        0       B   \n",
       "26        8429         3         900.0            3        9       B   \n",
       "...        ...       ...           ...          ...      ...     ...   \n",
       "9953     11395         3        1406.0            3        4       A   \n",
       "9960      9515         5         900.0            1       10       B   \n",
       "9968       264         0         900.0            0        1       B   \n",
       "9970      1564         0         540.0            0        0       B   \n",
       "9975      1564         0         540.0            0        0       B   \n",
       "\n",
       "              Price  \n",
       "17    186971.921875  \n",
       "19    250466.984375  \n",
       "21    366916.250000  \n",
       "25    191205.265625  \n",
       "26    410883.906250  \n",
       "...             ...  \n",
       "9953  183485.281250  \n",
       "9960  524365.562500  \n",
       "9968  248248.937500  \n",
       "9970  114878.828125  \n",
       "9975  154366.031250  \n",
       "\n",
       "[1613 rows x 20 columns]"
      ]
     },
     "execution_count": 44,
     "metadata": {},
     "output_type": "execute_result"
    }
   ],
   "source": [
    "df[(df['Floor'] > df['HouseFloor'])]"
   ]
  },
  {
   "cell_type": "code",
   "execution_count": 45,
   "id": "1a051bce",
   "metadata": {},
   "outputs": [],
   "source": [
    "df.loc[(df['Floor'] > df['HouseFloor']), ['Floor', 'HouseFloor']] = df[['Floor', 'HouseFloor']].median()"
   ]
  },
  {
   "cell_type": "code",
   "execution_count": 46,
   "id": "ac86878c",
   "metadata": {},
   "outputs": [
    {
     "data": {
      "text/plain": [
       "<AxesSubplot:>"
      ]
     },
     "execution_count": 46,
     "metadata": {},
     "output_type": "execute_result"
    },
    {
     "data": {
      "image/png": "[encoded data removed]",
      "text/plain": [
       "<Figure size 432x288 with 1 Axes>"
      ]
     },
     "metadata": {
      "needs_background": "light"
     },
     "output_type": "display_data"
    }
   ],
   "source": [
    "df['Floor'].hist()"
   ]
  },
  {
   "cell_type": "markdown",
   "id": "ade2ff71",
   "metadata": {},
   "source": [
    "#### Обработка признака Ecology_1"
   ]
  },
  {
   "cell_type": "code",
   "execution_count": 47,
   "id": "eb0fc19f",
   "metadata": {},
   "outputs": [
    {
     "data": {
      "text/plain": [
       "<AxesSubplot:>"
      ]
     },
     "execution_count": 47,
     "metadata": {},
     "output_type": "execute_result"
    },
    {
     "data": {
      "image/png": "[encoded data removed]",
      "text/plain": [
       "<Figure size 432x288 with 1 Axes>"
      ]
     },
     "metadata": {
      "needs_background": "light"
     },
     "output_type": "display_data"
    }
   ],
   "source": [
    "df['Ecology_1'].hist()"
   ]
  },
  {
   "cell_type": "markdown",
   "id": "48f8b055",
   "metadata": {},
   "source": [
    "Не требует обработки"
   ]
  },
  {
   "cell_type": "markdown",
   "id": "debb1452",
   "metadata": {},
   "source": [
    "#### Обработка признака Social_1"
   ]
  },
  {
   "cell_type": "code",
   "execution_count": 48,
   "id": "343af9a0",
   "metadata": {},
   "outputs": [
    {
     "data": {
      "text/plain": [
       "<AxesSubplot:>"
      ]
     },
     "execution_count": 48,
     "metadata": {},
     "output_type": "execute_result"
    },
    {
     "data": {
      "image/png": "[encoded data removed]",
      "text/plain": [
       "<Figure size 432x288 with 1 Axes>"
      ]
     },
     "metadata": {
      "needs_background": "light"
     },
     "output_type": "display_data"
    }
   ],
   "source": [
    "df['Social_1'].hist()"
   ]
  },
  {
   "cell_type": "code",
   "execution_count": 49,
   "id": "c2bfcbda",
   "metadata": {},
   "outputs": [],
   "source": [
    "df.loc[((df['Social_1'] < 5) | (df['Social_1'] > 60)), 'Social_1'] = df['Social_1'].median()"
   ]
  },
  {
   "cell_type": "code",
   "execution_count": 50,
   "id": "b1fb22c0",
   "metadata": {
    "scrolled": true
   },
   "outputs": [
    {
     "data": {
      "image/png": "[encoded data removed]",
      "text/plain": [
       "<Figure size 432x216 with 1 Axes>"
      ]
     },
     "metadata": {
      "needs_background": "light"
     },
     "output_type": "display_data"
    }
   ],
   "source": [
    "plt.figure(figsize=(6, 3))\n",
    "\n",
    "sns.boxplot(df['Social_1'], whis=1.5)\n",
    "\n",
    "plt.xlabel('Social_1')\n",
    "plt.show()"
   ]
  },
  {
   "cell_type": "code",
   "execution_count": 51,
   "id": "c4650e3e",
   "metadata": {},
   "outputs": [
    {
     "data": {
      "text/plain": [
       "<AxesSubplot:>"
      ]
     },
     "execution_count": 51,
     "metadata": {},
     "output_type": "execute_result"
    },
    {
     "data": {
      "image/png": "[encoded data removed]",
      "text/plain": [
       "<Figure size 432x288 with 1 Axes>"
      ]
     },
     "metadata": {
      "needs_background": "light"
     },
     "output_type": "display_data"
    }
   ],
   "source": [
    "df['Social_1'].hist()"
   ]
  },
  {
   "cell_type": "markdown",
   "id": "3394c416",
   "metadata": {},
   "source": [
    "#### Обработка признака Social_2"
   ]
  },
  {
   "cell_type": "code",
   "execution_count": 52,
   "id": "636faaae",
   "metadata": {
    "scrolled": true
   },
   "outputs": [
    {
     "data": {
      "image/png": "[encoded data removed]",
      "text/plain": [
       "<Figure size 432x216 with 1 Axes>"
      ]
     },
     "metadata": {
      "needs_background": "light"
     },
     "output_type": "display_data"
    }
   ],
   "source": [
    "plt.figure(figsize=(6, 3))\n",
    "\n",
    "sns.boxplot(df['Social_2'], whis=1.5)\n",
    "\n",
    "plt.xlabel('Social_2')\n",
    "plt.show()"
   ]
  },
  {
   "cell_type": "code",
   "execution_count": 53,
   "id": "8fa5ce7b",
   "metadata": {},
   "outputs": [],
   "source": [
    "df.loc[((df['Social_2'] < 500) | (df['Social_2'] > 14000)), 'Social_2'] = df['Social_2'].median()"
   ]
  },
  {
   "cell_type": "code",
   "execution_count": 54,
   "id": "fc8e1eb0",
   "metadata": {},
   "outputs": [
    {
     "data": {
      "text/plain": [
       "<AxesSubplot:>"
      ]
     },
     "execution_count": 54,
     "metadata": {},
     "output_type": "execute_result"
    },
    {
     "data": {
      "image/png": "[encoded data removed]",
      "text/plain": [
       "<Figure size 432x288 with 1 Axes>"
      ]
     },
     "metadata": {
      "needs_background": "light"
     },
     "output_type": "display_data"
    }
   ],
   "source": [
    "df['Social_2'].hist()"
   ]
  },
  {
   "cell_type": "code",
   "execution_count": 55,
   "id": "f74fbb9a",
   "metadata": {},
   "outputs": [
    {
     "data": {
      "text/plain": [
       "count    10000.000000\n",
       "mean      5489.571400\n",
       "std       2940.691314\n",
       "min        507.000000\n",
       "25%       3791.000000\n",
       "50%       5285.000000\n",
       "75%       6856.000000\n",
       "max      13670.000000\n",
       "Name: Social_2, dtype: float64"
      ]
     },
     "execution_count": 55,
     "metadata": {},
     "output_type": "execute_result"
    }
   ],
   "source": [
    "df['Social_2'].describe()"
   ]
  },
  {
   "cell_type": "markdown",
   "id": "d89fa3e0",
   "metadata": {},
   "source": [
    "#### Обработка признака Social_3"
   ]
  },
  {
   "cell_type": "code",
   "execution_count": 56,
   "id": "7addb50f",
   "metadata": {},
   "outputs": [
    {
     "data": {
      "text/plain": [
       "count    10000.000000\n",
       "mean         8.039200\n",
       "std         23.831875\n",
       "min          0.000000\n",
       "25%          0.000000\n",
       "50%          2.000000\n",
       "75%          5.000000\n",
       "max        141.000000\n",
       "Name: Social_3, dtype: float64"
      ]
     },
     "execution_count": 56,
     "metadata": {},
     "output_type": "execute_result"
    }
   ],
   "source": [
    "df['Social_3'].describe()"
   ]
  },
  {
   "cell_type": "code",
   "execution_count": 57,
   "id": "3353e137",
   "metadata": {},
   "outputs": [
    {
     "data": {
      "image/png": "[encoded data removed]",
      "text/plain": [
       "<Figure size 432x216 with 1 Axes>"
      ]
     },
     "metadata": {
      "needs_background": "light"
     },
     "output_type": "display_data"
    }
   ],
   "source": [
    "plt.figure(figsize=(6, 3))\n",
    "\n",
    "sns.boxplot(df['Social_3'], whis=1.5)\n",
    "\n",
    "plt.xlabel('Social_3')\n",
    "plt.show()"
   ]
  },
  {
   "cell_type": "code",
   "execution_count": 58,
   "id": "9a5f9b29",
   "metadata": {},
   "outputs": [
    {
     "data": {
      "text/html": [
       "<div>\n",
       "<style scoped>\n",
       "    .dataframe tbody tr th:only-of-type {\n",
       "        vertical-align: middle;\n",
       "    }\n",
       "\n",
       "    .dataframe tbody tr th {\n",
       "        vertical-align: top;\n",
       "    }\n",
       "\n",
       "    .dataframe thead th {\n",
       "        text-align: right;\n",
       "    }\n",
       "</style>\n",
       "<table border=\"1\" class=\"dataframe\">\n",
       "  <thead>\n",
       "    <tr style=\"text-align: right;\">\n",
       "      <th></th>\n",
       "      <th>Id</th>\n",
       "      <th>DistrictId</th>\n",
       "      <th>Rooms</th>\n",
       "      <th>Square</th>\n",
       "      <th>LifeSquare</th>\n",
       "      <th>KitchenSquare</th>\n",
       "      <th>Floor</th>\n",
       "      <th>HouseFloor</th>\n",
       "      <th>HouseYear</th>\n",
       "      <th>Ecology_1</th>\n",
       "      <th>Ecology_2</th>\n",
       "      <th>Ecology_3</th>\n",
       "      <th>Social_1</th>\n",
       "      <th>Social_2</th>\n",
       "      <th>Social_3</th>\n",
       "      <th>Healthcare_1</th>\n",
       "      <th>Helthcare_2</th>\n",
       "      <th>Shops_1</th>\n",
       "      <th>Shops_2</th>\n",
       "      <th>Price</th>\n",
       "    </tr>\n",
       "  </thead>\n",
       "  <tbody>\n",
       "    <tr>\n",
       "      <th>0</th>\n",
       "      <td>11809</td>\n",
       "      <td>27</td>\n",
       "      <td>3.0</td>\n",
       "      <td>115.027313</td>\n",
       "      <td>32.781261</td>\n",
       "      <td>10.0</td>\n",
       "      <td>4.0</td>\n",
       "      <td>10.0</td>\n",
       "      <td>2014</td>\n",
       "      <td>0.075424</td>\n",
       "      <td>B</td>\n",
       "      <td>B</td>\n",
       "      <td>11.0</td>\n",
       "      <td>3097.0</td>\n",
       "      <td>0</td>\n",
       "      <td>900.0</td>\n",
       "      <td>0</td>\n",
       "      <td>0</td>\n",
       "      <td>B</td>\n",
       "      <td>305018.875000</td>\n",
       "    </tr>\n",
       "    <tr>\n",
       "      <th>2</th>\n",
       "      <td>8215</td>\n",
       "      <td>1</td>\n",
       "      <td>3.0</td>\n",
       "      <td>78.342216</td>\n",
       "      <td>47.671970</td>\n",
       "      <td>10.0</td>\n",
       "      <td>2.0</td>\n",
       "      <td>17.0</td>\n",
       "      <td>1988</td>\n",
       "      <td>0.025609</td>\n",
       "      <td>B</td>\n",
       "      <td>B</td>\n",
       "      <td>33.0</td>\n",
       "      <td>5261.0</td>\n",
       "      <td>0</td>\n",
       "      <td>240.0</td>\n",
       "      <td>3</td>\n",
       "      <td>1</td>\n",
       "      <td>B</td>\n",
       "      <td>282078.718750</td>\n",
       "    </tr>\n",
       "    <tr>\n",
       "      <th>3</th>\n",
       "      <td>2352</td>\n",
       "      <td>1</td>\n",
       "      <td>1.0</td>\n",
       "      <td>40.409908</td>\n",
       "      <td>32.781261</td>\n",
       "      <td>6.0</td>\n",
       "      <td>10.0</td>\n",
       "      <td>22.0</td>\n",
       "      <td>1977</td>\n",
       "      <td>0.007122</td>\n",
       "      <td>B</td>\n",
       "      <td>B</td>\n",
       "      <td>25.0</td>\n",
       "      <td>5285.0</td>\n",
       "      <td>0</td>\n",
       "      <td>900.0</td>\n",
       "      <td>0</td>\n",
       "      <td>1</td>\n",
       "      <td>B</td>\n",
       "      <td>168106.000000</td>\n",
       "    </tr>\n",
       "    <tr>\n",
       "      <th>8</th>\n",
       "      <td>9951</td>\n",
       "      <td>1</td>\n",
       "      <td>1.0</td>\n",
       "      <td>46.887894</td>\n",
       "      <td>NaN</td>\n",
       "      <td>NaN</td>\n",
       "      <td>12.0</td>\n",
       "      <td>20.0</td>\n",
       "      <td>1977</td>\n",
       "      <td>0.007122</td>\n",
       "      <td>B</td>\n",
       "      <td>B</td>\n",
       "      <td>25.0</td>\n",
       "      <td>5285.0</td>\n",
       "      <td>0</td>\n",
       "      <td>900.0</td>\n",
       "      <td>0</td>\n",
       "      <td>1</td>\n",
       "      <td>B</td>\n",
       "      <td>160400.406250</td>\n",
       "    </tr>\n",
       "    <tr>\n",
       "      <th>9</th>\n",
       "      <td>8094</td>\n",
       "      <td>6</td>\n",
       "      <td>3.0</td>\n",
       "      <td>79.867477</td>\n",
       "      <td>NaN</td>\n",
       "      <td>NaN</td>\n",
       "      <td>3.0</td>\n",
       "      <td>17.0</td>\n",
       "      <td>2014</td>\n",
       "      <td>0.243205</td>\n",
       "      <td>B</td>\n",
       "      <td>B</td>\n",
       "      <td>5.0</td>\n",
       "      <td>1564.0</td>\n",
       "      <td>0</td>\n",
       "      <td>540.0</td>\n",
       "      <td>0</td>\n",
       "      <td>0</td>\n",
       "      <td>B</td>\n",
       "      <td>194756.031250</td>\n",
       "    </tr>\n",
       "    <tr>\n",
       "      <th>...</th>\n",
       "      <td>...</td>\n",
       "      <td>...</td>\n",
       "      <td>...</td>\n",
       "      <td>...</td>\n",
       "      <td>...</td>\n",
       "      <td>...</td>\n",
       "      <td>...</td>\n",
       "      <td>...</td>\n",
       "      <td>...</td>\n",
       "      <td>...</td>\n",
       "      <td>...</td>\n",
       "      <td>...</td>\n",
       "      <td>...</td>\n",
       "      <td>...</td>\n",
       "      <td>...</td>\n",
       "      <td>...</td>\n",
       "      <td>...</td>\n",
       "      <td>...</td>\n",
       "      <td>...</td>\n",
       "      <td>...</td>\n",
       "    </tr>\n",
       "    <tr>\n",
       "      <th>9983</th>\n",
       "      <td>647</td>\n",
       "      <td>1</td>\n",
       "      <td>2.0</td>\n",
       "      <td>63.324024</td>\n",
       "      <td>32.781261</td>\n",
       "      <td>6.0</td>\n",
       "      <td>4.0</td>\n",
       "      <td>17.0</td>\n",
       "      <td>1977</td>\n",
       "      <td>0.007122</td>\n",
       "      <td>B</td>\n",
       "      <td>B</td>\n",
       "      <td>25.0</td>\n",
       "      <td>5285.0</td>\n",
       "      <td>0</td>\n",
       "      <td>900.0</td>\n",
       "      <td>0</td>\n",
       "      <td>1</td>\n",
       "      <td>B</td>\n",
       "      <td>183809.328125</td>\n",
       "    </tr>\n",
       "    <tr>\n",
       "      <th>9985</th>\n",
       "      <td>277</td>\n",
       "      <td>93</td>\n",
       "      <td>1.0</td>\n",
       "      <td>34.723984</td>\n",
       "      <td>19.840549</td>\n",
       "      <td>9.0</td>\n",
       "      <td>6.0</td>\n",
       "      <td>16.0</td>\n",
       "      <td>1988</td>\n",
       "      <td>0.521867</td>\n",
       "      <td>B</td>\n",
       "      <td>B</td>\n",
       "      <td>25.0</td>\n",
       "      <td>6149.0</td>\n",
       "      <td>0</td>\n",
       "      <td>900.0</td>\n",
       "      <td>0</td>\n",
       "      <td>0</td>\n",
       "      <td>B</td>\n",
       "      <td>149649.078125</td>\n",
       "    </tr>\n",
       "    <tr>\n",
       "      <th>9987</th>\n",
       "      <td>11665</td>\n",
       "      <td>1</td>\n",
       "      <td>2.0</td>\n",
       "      <td>62.690056</td>\n",
       "      <td>NaN</td>\n",
       "      <td>NaN</td>\n",
       "      <td>19.0</td>\n",
       "      <td>22.0</td>\n",
       "      <td>2018</td>\n",
       "      <td>0.007122</td>\n",
       "      <td>B</td>\n",
       "      <td>B</td>\n",
       "      <td>25.0</td>\n",
       "      <td>5285.0</td>\n",
       "      <td>0</td>\n",
       "      <td>900.0</td>\n",
       "      <td>0</td>\n",
       "      <td>1</td>\n",
       "      <td>B</td>\n",
       "      <td>203908.187500</td>\n",
       "    </tr>\n",
       "    <tr>\n",
       "      <th>9991</th>\n",
       "      <td>11173</td>\n",
       "      <td>6</td>\n",
       "      <td>2.0</td>\n",
       "      <td>62.648777</td>\n",
       "      <td>32.781261</td>\n",
       "      <td>6.0</td>\n",
       "      <td>6.0</td>\n",
       "      <td>17.0</td>\n",
       "      <td>1977</td>\n",
       "      <td>0.243205</td>\n",
       "      <td>B</td>\n",
       "      <td>B</td>\n",
       "      <td>5.0</td>\n",
       "      <td>1564.0</td>\n",
       "      <td>0</td>\n",
       "      <td>540.0</td>\n",
       "      <td>0</td>\n",
       "      <td>0</td>\n",
       "      <td>B</td>\n",
       "      <td>182625.546875</td>\n",
       "    </tr>\n",
       "    <tr>\n",
       "      <th>9993</th>\n",
       "      <td>9289</td>\n",
       "      <td>1</td>\n",
       "      <td>3.0</td>\n",
       "      <td>84.486076</td>\n",
       "      <td>NaN</td>\n",
       "      <td>NaN</td>\n",
       "      <td>4.0</td>\n",
       "      <td>22.0</td>\n",
       "      <td>2016</td>\n",
       "      <td>0.007122</td>\n",
       "      <td>B</td>\n",
       "      <td>B</td>\n",
       "      <td>25.0</td>\n",
       "      <td>5285.0</td>\n",
       "      <td>0</td>\n",
       "      <td>900.0</td>\n",
       "      <td>0</td>\n",
       "      <td>1</td>\n",
       "      <td>B</td>\n",
       "      <td>264213.562500</td>\n",
       "    </tr>\n",
       "  </tbody>\n",
       "</table>\n",
       "<p>3762 rows × 20 columns</p>\n",
       "</div>"
      ],
      "text/plain": [
       "         Id  DistrictId  Rooms      Square  LifeSquare  KitchenSquare  Floor  \\\n",
       "0     11809          27    3.0  115.027313   32.781261           10.0    4.0   \n",
       "2      8215           1    3.0   78.342216   47.671970           10.0    2.0   \n",
       "3      2352           1    1.0   40.409908   32.781261            6.0   10.0   \n",
       "8      9951           1    1.0   46.887894         NaN            NaN   12.0   \n",
       "9      8094           6    3.0   79.867477         NaN            NaN    3.0   \n",
       "...     ...         ...    ...         ...         ...            ...    ...   \n",
       "9983    647           1    2.0   63.324024   32.781261            6.0    4.0   \n",
       "9985    277          93    1.0   34.723984   19.840549            9.0    6.0   \n",
       "9987  11665           1    2.0   62.690056         NaN            NaN   19.0   \n",
       "9991  11173           6    2.0   62.648777   32.781261            6.0    6.0   \n",
       "9993   9289           1    3.0   84.486076         NaN            NaN    4.0   \n",
       "\n",
       "      HouseFloor  HouseYear  Ecology_1 Ecology_2 Ecology_3  Social_1  \\\n",
       "0           10.0       2014   0.075424         B         B      11.0   \n",
       "2           17.0       1988   0.025609         B         B      33.0   \n",
       "3           22.0       1977   0.007122         B         B      25.0   \n",
       "8           20.0       1977   0.007122         B         B      25.0   \n",
       "9           17.0       2014   0.243205         B         B       5.0   \n",
       "...          ...        ...        ...       ...       ...       ...   \n",
       "9983        17.0       1977   0.007122         B         B      25.0   \n",
       "9985        16.0       1988   0.521867         B         B      25.0   \n",
       "9987        22.0       2018   0.007122         B         B      25.0   \n",
       "9991        17.0       1977   0.243205         B         B       5.0   \n",
       "9993        22.0       2016   0.007122         B         B      25.0   \n",
       "\n",
       "      Social_2  Social_3  Healthcare_1  Helthcare_2  Shops_1 Shops_2  \\\n",
       "0       3097.0         0         900.0            0        0       B   \n",
       "2       5261.0         0         240.0            3        1       B   \n",
       "3       5285.0         0         900.0            0        1       B   \n",
       "8       5285.0         0         900.0            0        1       B   \n",
       "9       1564.0         0         540.0            0        0       B   \n",
       "...        ...       ...           ...          ...      ...     ...   \n",
       "9983    5285.0         0         900.0            0        1       B   \n",
       "9985    6149.0         0         900.0            0        0       B   \n",
       "9987    5285.0         0         900.0            0        1       B   \n",
       "9991    1564.0         0         540.0            0        0       B   \n",
       "9993    5285.0         0         900.0            0        1       B   \n",
       "\n",
       "              Price  \n",
       "0     305018.875000  \n",
       "2     282078.718750  \n",
       "3     168106.000000  \n",
       "8     160400.406250  \n",
       "9     194756.031250  \n",
       "...             ...  \n",
       "9983  183809.328125  \n",
       "9985  149649.078125  \n",
       "9987  203908.187500  \n",
       "9991  182625.546875  \n",
       "9993  264213.562500  \n",
       "\n",
       "[3762 rows x 20 columns]"
      ]
     },
     "execution_count": 58,
     "metadata": {},
     "output_type": "execute_result"
    }
   ],
   "source": [
    "df[((df['Social_3'] > 15) | (df['Social_3'] < 1))]"
   ]
  },
  {
   "cell_type": "code",
   "execution_count": 59,
   "id": "1250d08b",
   "metadata": {},
   "outputs": [],
   "source": [
    "df.loc[((df['Social_3'] > 15) | (df['Social_3'] < 1)), 'Social_3'] = df['Social_3'].median()"
   ]
  },
  {
   "cell_type": "code",
   "execution_count": 60,
   "id": "faab60ca",
   "metadata": {},
   "outputs": [
    {
     "data": {
      "image/png": "[encoded data removed]",
      "text/plain": [
       "<Figure size 432x288 with 1 Axes>"
      ]
     },
     "metadata": {
      "needs_background": "light"
     },
     "output_type": "display_data"
    }
   ],
   "source": [
    "df['Social_3'].hist();"
   ]
  },
  {
   "cell_type": "markdown",
   "id": "3768ac03",
   "metadata": {},
   "source": [
    "#### Обработка признака HouseYear"
   ]
  },
  {
   "cell_type": "code",
   "execution_count": 61,
   "id": "51961f3a",
   "metadata": {
    "scrolled": true
   },
   "outputs": [
    {
     "data": {
      "text/plain": [
       "count    1.000000e+04\n",
       "mean     3.990166e+03\n",
       "std      2.005003e+05\n",
       "min      1.910000e+03\n",
       "25%      1.974000e+03\n",
       "50%      1.977000e+03\n",
       "75%      2.001000e+03\n",
       "max      2.005201e+07\n",
       "Name: HouseYear, dtype: float64"
      ]
     },
     "execution_count": 61,
     "metadata": {},
     "output_type": "execute_result"
    }
   ],
   "source": [
    "df['HouseYear'].describe()"
   ]
  },
  {
   "cell_type": "code",
   "execution_count": 62,
   "id": "ac58940a",
   "metadata": {},
   "outputs": [
    {
     "data": {
      "text/html": [
       "<div>\n",
       "<style scoped>\n",
       "    .dataframe tbody tr th:only-of-type {\n",
       "        vertical-align: middle;\n",
       "    }\n",
       "\n",
       "    .dataframe tbody tr th {\n",
       "        vertical-align: top;\n",
       "    }\n",
       "\n",
       "    .dataframe thead th {\n",
       "        text-align: right;\n",
       "    }\n",
       "</style>\n",
       "<table border=\"1\" class=\"dataframe\">\n",
       "  <thead>\n",
       "    <tr style=\"text-align: right;\">\n",
       "      <th></th>\n",
       "      <th>Id</th>\n",
       "      <th>DistrictId</th>\n",
       "      <th>Rooms</th>\n",
       "      <th>Square</th>\n",
       "      <th>LifeSquare</th>\n",
       "      <th>KitchenSquare</th>\n",
       "      <th>Floor</th>\n",
       "      <th>HouseFloor</th>\n",
       "      <th>HouseYear</th>\n",
       "      <th>Ecology_1</th>\n",
       "      <th>Ecology_2</th>\n",
       "      <th>Ecology_3</th>\n",
       "      <th>Social_1</th>\n",
       "      <th>Social_2</th>\n",
       "      <th>Social_3</th>\n",
       "      <th>Healthcare_1</th>\n",
       "      <th>Helthcare_2</th>\n",
       "      <th>Shops_1</th>\n",
       "      <th>Shops_2</th>\n",
       "      <th>Price</th>\n",
       "    </tr>\n",
       "  </thead>\n",
       "  <tbody>\n",
       "    <tr>\n",
       "      <th>8828</th>\n",
       "      <td>11607</td>\n",
       "      <td>147</td>\n",
       "      <td>2.0</td>\n",
       "      <td>44.791836</td>\n",
       "      <td>28.360394</td>\n",
       "      <td>5.0</td>\n",
       "      <td>4.0</td>\n",
       "      <td>9.0</td>\n",
       "      <td>4968</td>\n",
       "      <td>0.319809</td>\n",
       "      <td>B</td>\n",
       "      <td>B</td>\n",
       "      <td>25.0</td>\n",
       "      <td>4756.0</td>\n",
       "      <td>2.0</td>\n",
       "      <td>2857.0</td>\n",
       "      <td>5</td>\n",
       "      <td>8</td>\n",
       "      <td>B</td>\n",
       "      <td>243028.609375</td>\n",
       "    </tr>\n",
       "    <tr>\n",
       "      <th>9163</th>\n",
       "      <td>10814</td>\n",
       "      <td>109</td>\n",
       "      <td>1.0</td>\n",
       "      <td>37.265072</td>\n",
       "      <td>20.239714</td>\n",
       "      <td>9.0</td>\n",
       "      <td>9.0</td>\n",
       "      <td>12.0</td>\n",
       "      <td>20052011</td>\n",
       "      <td>0.136330</td>\n",
       "      <td>B</td>\n",
       "      <td>B</td>\n",
       "      <td>30.0</td>\n",
       "      <td>6141.0</td>\n",
       "      <td>10.0</td>\n",
       "      <td>262.0</td>\n",
       "      <td>3</td>\n",
       "      <td>6</td>\n",
       "      <td>B</td>\n",
       "      <td>254084.531250</td>\n",
       "    </tr>\n",
       "  </tbody>\n",
       "</table>\n",
       "</div>"
      ],
      "text/plain": [
       "         Id  DistrictId  Rooms     Square  LifeSquare  KitchenSquare  Floor  \\\n",
       "8828  11607         147    2.0  44.791836   28.360394            5.0    4.0   \n",
       "9163  10814         109    1.0  37.265072   20.239714            9.0    9.0   \n",
       "\n",
       "      HouseFloor  HouseYear  Ecology_1 Ecology_2 Ecology_3  Social_1  \\\n",
       "8828         9.0       4968   0.319809         B         B      25.0   \n",
       "9163        12.0   20052011   0.136330         B         B      30.0   \n",
       "\n",
       "      Social_2  Social_3  Healthcare_1  Helthcare_2  Shops_1 Shops_2  \\\n",
       "8828    4756.0       2.0        2857.0            5        8       B   \n",
       "9163    6141.0      10.0         262.0            3        6       B   \n",
       "\n",
       "              Price  \n",
       "8828  243028.609375  \n",
       "9163  254084.531250  "
      ]
     },
     "execution_count": 62,
     "metadata": {},
     "output_type": "execute_result"
    }
   ],
   "source": [
    "df[df['HouseYear'] > 2020]"
   ]
  },
  {
   "cell_type": "code",
   "execution_count": 63,
   "id": "e77b1d27",
   "metadata": {},
   "outputs": [],
   "source": [
    "df.loc[df['HouseYear'] > 2020, 'HouseYear'] = 2020"
   ]
  },
  {
   "cell_type": "code",
   "execution_count": 64,
   "id": "036a831b",
   "metadata": {
    "scrolled": true
   },
   "outputs": [
    {
     "data": {
      "text/plain": [
       "count    10000.000000\n",
       "mean      1984.872400\n",
       "std         18.416347\n",
       "min       1910.000000\n",
       "25%       1974.000000\n",
       "50%       1977.000000\n",
       "75%       2001.000000\n",
       "max       2020.000000\n",
       "Name: HouseYear, dtype: float64"
      ]
     },
     "execution_count": 64,
     "metadata": {},
     "output_type": "execute_result"
    }
   ],
   "source": [
    "df['HouseYear'].describe()"
   ]
  },
  {
   "cell_type": "markdown",
   "id": "cd86f095",
   "metadata": {},
   "source": [
    "#### Обработка признаков Healthcare_1 и Helthcare_2\t"
   ]
  },
  {
   "cell_type": "code",
   "execution_count": 65,
   "id": "4e3e9cf7",
   "metadata": {},
   "outputs": [
    {
     "data": {
      "text/plain": [
       "<AxesSubplot:>"
      ]
     },
     "execution_count": 65,
     "metadata": {},
     "output_type": "execute_result"
    },
    {
     "data": {
      "image/png": "[encoded data removed]",
      "text/plain": [
       "<Figure size 432x288 with 1 Axes>"
      ]
     },
     "metadata": {
      "needs_background": "light"
     },
     "output_type": "display_data"
    }
   ],
   "source": [
    "df['Healthcare_1'].hist()"
   ]
  },
  {
   "cell_type": "code",
   "execution_count": 66,
   "id": "35a077a6",
   "metadata": {
    "scrolled": true
   },
   "outputs": [
    {
     "data": {
      "text/plain": [
       "<AxesSubplot:>"
      ]
     },
     "execution_count": 66,
     "metadata": {},
     "output_type": "execute_result"
    },
    {
     "data": {
      "image/png": "[encoded data removed]",
      "text/plain": [
       "<Figure size 432x288 with 1 Axes>"
      ]
     },
     "metadata": {
      "needs_background": "light"
     },
     "output_type": "display_data"
    }
   ],
   "source": [
    "df['Helthcare_2'].hist()"
   ]
  },
  {
   "cell_type": "markdown",
   "id": "45c5f8ed",
   "metadata": {},
   "source": [
    "Не требуют обработки"
   ]
  },
  {
   "cell_type": "markdown",
   "id": "5f1823bd",
   "metadata": {},
   "source": [
    "#### Обработка признака Shops_1\n"
   ]
  },
  {
   "cell_type": "code",
   "execution_count": 67,
   "id": "71fefb12",
   "metadata": {
    "scrolled": true
   },
   "outputs": [
    {
     "data": {
      "text/plain": [
       "<AxesSubplot:>"
      ]
     },
     "execution_count": 67,
     "metadata": {},
     "output_type": "execute_result"
    },
    {
     "data": {
      "image/png": "[encoded data removed]",
      "text/plain": [
       "<Figure size 432x288 with 1 Axes>"
      ]
     },
     "metadata": {
      "needs_background": "light"
     },
     "output_type": "display_data"
    }
   ],
   "source": [
    "df['Shops_1'].hist()"
   ]
  },
  {
   "cell_type": "code",
   "execution_count": 68,
   "id": "5b80dd6d",
   "metadata": {
    "scrolled": true
   },
   "outputs": [
    {
     "data": {
      "image/png": "[encoded data removed]",
      "text/plain": [
       "<Figure size 432x216 with 1 Axes>"
      ]
     },
     "metadata": {
      "needs_background": "light"
     },
     "output_type": "display_data"
    }
   ],
   "source": [
    "plt.figure(figsize=(6, 3))\n",
    "\n",
    "sns.boxplot(df['Shops_1'], whis=1.5)\n",
    "\n",
    "plt.xlabel('Shops_1')\n",
    "plt.show()"
   ]
  },
  {
   "cell_type": "code",
   "execution_count": 69,
   "id": "a603dc73",
   "metadata": {
    "scrolled": true
   },
   "outputs": [
    {
     "data": {
      "text/plain": [
       "count    10000.000000\n",
       "mean         4.231300\n",
       "std          4.806341\n",
       "min          0.000000\n",
       "25%          1.000000\n",
       "50%          3.000000\n",
       "75%          6.000000\n",
       "max         23.000000\n",
       "Name: Shops_1, dtype: float64"
      ]
     },
     "execution_count": 69,
     "metadata": {},
     "output_type": "execute_result"
    }
   ],
   "source": [
    "df['Shops_1'].describe()"
   ]
  },
  {
   "cell_type": "markdown",
   "id": "5cde8370",
   "metadata": {},
   "source": [
    "### Проверка результата"
   ]
  },
  {
   "cell_type": "code",
   "execution_count": 70,
   "id": "189f6852",
   "metadata": {
    "scrolled": false
   },
   "outputs": [
    {
     "data": {
      "text/html": [
       "<div>\n",
       "<style scoped>\n",
       "    .dataframe tbody tr th:only-of-type {\n",
       "        vertical-align: middle;\n",
       "    }\n",
       "\n",
       "    .dataframe tbody tr th {\n",
       "        vertical-align: top;\n",
       "    }\n",
       "\n",
       "    .dataframe thead th {\n",
       "        text-align: right;\n",
       "    }\n",
       "</style>\n",
       "<table border=\"1\" class=\"dataframe\">\n",
       "  <thead>\n",
       "    <tr style=\"text-align: right;\">\n",
       "      <th></th>\n",
       "      <th>Id</th>\n",
       "      <th>DistrictId</th>\n",
       "      <th>Rooms</th>\n",
       "      <th>Square</th>\n",
       "      <th>LifeSquare</th>\n",
       "      <th>KitchenSquare</th>\n",
       "      <th>Floor</th>\n",
       "      <th>HouseFloor</th>\n",
       "      <th>HouseYear</th>\n",
       "      <th>Ecology_1</th>\n",
       "      <th>Social_1</th>\n",
       "      <th>Social_2</th>\n",
       "      <th>Social_3</th>\n",
       "      <th>Healthcare_1</th>\n",
       "      <th>Helthcare_2</th>\n",
       "      <th>Shops_1</th>\n",
       "      <th>Price</th>\n",
       "    </tr>\n",
       "  </thead>\n",
       "  <tbody>\n",
       "    <tr>\n",
       "      <th>count</th>\n",
       "      <td>10000.00000</td>\n",
       "      <td>10000.000000</td>\n",
       "      <td>10000.000000</td>\n",
       "      <td>10000.000000</td>\n",
       "      <td>8665.000000</td>\n",
       "      <td>8665.000000</td>\n",
       "      <td>8387.000000</td>\n",
       "      <td>8387.000000</td>\n",
       "      <td>10000.000000</td>\n",
       "      <td>10000.000000</td>\n",
       "      <td>10000.000000</td>\n",
       "      <td>10000.000000</td>\n",
       "      <td>10000.000000</td>\n",
       "      <td>10000.000000</td>\n",
       "      <td>10000.000000</td>\n",
       "      <td>10000.000000</td>\n",
       "      <td>10000.000000</td>\n",
       "    </tr>\n",
       "    <tr>\n",
       "      <th>mean</th>\n",
       "      <td>8383.40770</td>\n",
       "      <td>50.400800</td>\n",
       "      <td>1.888400</td>\n",
       "      <td>55.734982</td>\n",
       "      <td>32.645927</td>\n",
       "      <td>7.392383</td>\n",
       "      <td>8.001192</td>\n",
       "      <td>13.971861</td>\n",
       "      <td>1984.872400</td>\n",
       "      <td>0.118858</td>\n",
       "      <td>27.389100</td>\n",
       "      <td>5489.571400</td>\n",
       "      <td>3.094200</td>\n",
       "      <td>944.553406</td>\n",
       "      <td>1.319500</td>\n",
       "      <td>4.231300</td>\n",
       "      <td>214138.937500</td>\n",
       "    </tr>\n",
       "    <tr>\n",
       "      <th>std</th>\n",
       "      <td>4859.01902</td>\n",
       "      <td>43.587592</td>\n",
       "      <td>0.811071</td>\n",
       "      <td>17.580727</td>\n",
       "      <td>10.112997</td>\n",
       "      <td>2.166272</td>\n",
       "      <td>4.939510</td>\n",
       "      <td>5.632074</td>\n",
       "      <td>18.416347</td>\n",
       "      <td>0.119025</td>\n",
       "      <td>12.230522</td>\n",
       "      <td>2940.691314</td>\n",
       "      <td>2.485426</td>\n",
       "      <td>550.864868</td>\n",
       "      <td>1.493601</td>\n",
       "      <td>4.806341</td>\n",
       "      <td>92872.273438</td>\n",
       "    </tr>\n",
       "    <tr>\n",
       "      <th>min</th>\n",
       "      <td>0.00000</td>\n",
       "      <td>0.000000</td>\n",
       "      <td>1.000000</td>\n",
       "      <td>18.509176</td>\n",
       "      <td>10.523869</td>\n",
       "      <td>5.000000</td>\n",
       "      <td>1.000000</td>\n",
       "      <td>1.000000</td>\n",
       "      <td>1910.000000</td>\n",
       "      <td>0.000000</td>\n",
       "      <td>5.000000</td>\n",
       "      <td>507.000000</td>\n",
       "      <td>1.000000</td>\n",
       "      <td>0.000000</td>\n",
       "      <td>0.000000</td>\n",
       "      <td>0.000000</td>\n",
       "      <td>59174.777344</td>\n",
       "    </tr>\n",
       "    <tr>\n",
       "      <th>25%</th>\n",
       "      <td>4169.50000</td>\n",
       "      <td>20.000000</td>\n",
       "      <td>1.000000</td>\n",
       "      <td>41.807906</td>\n",
       "      <td>24.479166</td>\n",
       "      <td>6.000000</td>\n",
       "      <td>4.000000</td>\n",
       "      <td>9.000000</td>\n",
       "      <td>1974.000000</td>\n",
       "      <td>0.017647</td>\n",
       "      <td>22.000000</td>\n",
       "      <td>3791.000000</td>\n",
       "      <td>2.000000</td>\n",
       "      <td>830.000000</td>\n",
       "      <td>0.000000</td>\n",
       "      <td>1.000000</td>\n",
       "      <td>153872.628906</td>\n",
       "    </tr>\n",
       "    <tr>\n",
       "      <th>50%</th>\n",
       "      <td>8394.50000</td>\n",
       "      <td>36.000000</td>\n",
       "      <td>2.000000</td>\n",
       "      <td>52.513309</td>\n",
       "      <td>32.781261</td>\n",
       "      <td>6.000000</td>\n",
       "      <td>7.000000</td>\n",
       "      <td>14.000000</td>\n",
       "      <td>1977.000000</td>\n",
       "      <td>0.075424</td>\n",
       "      <td>25.000000</td>\n",
       "      <td>5285.000000</td>\n",
       "      <td>2.000000</td>\n",
       "      <td>900.000000</td>\n",
       "      <td>1.000000</td>\n",
       "      <td>3.000000</td>\n",
       "      <td>192269.648438</td>\n",
       "    </tr>\n",
       "    <tr>\n",
       "      <th>75%</th>\n",
       "      <td>12592.50000</td>\n",
       "      <td>75.000000</td>\n",
       "      <td>2.000000</td>\n",
       "      <td>65.684193</td>\n",
       "      <td>34.994507</td>\n",
       "      <td>9.000000</td>\n",
       "      <td>11.000000</td>\n",
       "      <td>17.000000</td>\n",
       "      <td>2001.000000</td>\n",
       "      <td>0.195781</td>\n",
       "      <td>34.000000</td>\n",
       "      <td>6856.000000</td>\n",
       "      <td>4.000000</td>\n",
       "      <td>900.000000</td>\n",
       "      <td>2.000000</td>\n",
       "      <td>6.000000</td>\n",
       "      <td>249135.460938</td>\n",
       "    </tr>\n",
       "    <tr>\n",
       "      <th>max</th>\n",
       "      <td>16798.00000</td>\n",
       "      <td>209.000000</td>\n",
       "      <td>5.000000</td>\n",
       "      <td>129.998749</td>\n",
       "      <td>95.645828</td>\n",
       "      <td>20.000000</td>\n",
       "      <td>37.000000</td>\n",
       "      <td>45.000000</td>\n",
       "      <td>2020.000000</td>\n",
       "      <td>0.521867</td>\n",
       "      <td>53.000000</td>\n",
       "      <td>13670.000000</td>\n",
       "      <td>14.000000</td>\n",
       "      <td>2890.000000</td>\n",
       "      <td>6.000000</td>\n",
       "      <td>23.000000</td>\n",
       "      <td>633233.437500</td>\n",
       "    </tr>\n",
       "  </tbody>\n",
       "</table>\n",
       "</div>"
      ],
      "text/plain": [
       "                Id    DistrictId         Rooms        Square   LifeSquare  \\\n",
       "count  10000.00000  10000.000000  10000.000000  10000.000000  8665.000000   \n",
       "mean    8383.40770     50.400800      1.888400     55.734982    32.645927   \n",
       "std     4859.01902     43.587592      0.811071     17.580727    10.112997   \n",
       "min        0.00000      0.000000      1.000000     18.509176    10.523869   \n",
       "25%     4169.50000     20.000000      1.000000     41.807906    24.479166   \n",
       "50%     8394.50000     36.000000      2.000000     52.513309    32.781261   \n",
       "75%    12592.50000     75.000000      2.000000     65.684193    34.994507   \n",
       "max    16798.00000    209.000000      5.000000    129.998749    95.645828   \n",
       "\n",
       "       KitchenSquare        Floor   HouseFloor     HouseYear     Ecology_1  \\\n",
       "count    8665.000000  8387.000000  8387.000000  10000.000000  10000.000000   \n",
       "mean        7.392383     8.001192    13.971861   1984.872400      0.118858   \n",
       "std         2.166272     4.939510     5.632074     18.416347      0.119025   \n",
       "min         5.000000     1.000000     1.000000   1910.000000      0.000000   \n",
       "25%         6.000000     4.000000     9.000000   1974.000000      0.017647   \n",
       "50%         6.000000     7.000000    14.000000   1977.000000      0.075424   \n",
       "75%         9.000000    11.000000    17.000000   2001.000000      0.195781   \n",
       "max        20.000000    37.000000    45.000000   2020.000000      0.521867   \n",
       "\n",
       "           Social_1      Social_2      Social_3  Healthcare_1   Helthcare_2  \\\n",
       "count  10000.000000  10000.000000  10000.000000  10000.000000  10000.000000   \n",
       "mean      27.389100   5489.571400      3.094200    944.553406      1.319500   \n",
       "std       12.230522   2940.691314      2.485426    550.864868      1.493601   \n",
       "min        5.000000    507.000000      1.000000      0.000000      0.000000   \n",
       "25%       22.000000   3791.000000      2.000000    830.000000      0.000000   \n",
       "50%       25.000000   5285.000000      2.000000    900.000000      1.000000   \n",
       "75%       34.000000   6856.000000      4.000000    900.000000      2.000000   \n",
       "max       53.000000  13670.000000     14.000000   2890.000000      6.000000   \n",
       "\n",
       "            Shops_1          Price  \n",
       "count  10000.000000   10000.000000  \n",
       "mean       4.231300  214138.937500  \n",
       "std        4.806341   92872.273438  \n",
       "min        0.000000   59174.777344  \n",
       "25%        1.000000  153872.628906  \n",
       "50%        3.000000  192269.648438  \n",
       "75%        6.000000  249135.460938  \n",
       "max       23.000000  633233.437500  "
      ]
     },
     "execution_count": 70,
     "metadata": {},
     "output_type": "execute_result"
    }
   ],
   "source": [
    "df.describe()"
   ]
  },
  {
   "cell_type": "markdown",
   "id": "563b4848",
   "metadata": {},
   "source": [
    "### 7.2 Категориальные переменные"
   ]
  },
  {
   "cell_type": "code",
   "execution_count": 71,
   "id": "cfc2bd26",
   "metadata": {},
   "outputs": [
    {
     "data": {
      "text/plain": [
       "B    9903\n",
       "A      97\n",
       "Name: Ecology_2, dtype: int64"
      ]
     },
     "execution_count": 71,
     "metadata": {},
     "output_type": "execute_result"
    }
   ],
   "source": [
    "df['Ecology_2'].value_counts()"
   ]
  },
  {
   "cell_type": "code",
   "execution_count": 72,
   "id": "e6c3af38",
   "metadata": {},
   "outputs": [
    {
     "data": {
      "text/plain": [
       "B    9725\n",
       "A     275\n",
       "Name: Ecology_3, dtype: int64"
      ]
     },
     "execution_count": 72,
     "metadata": {},
     "output_type": "execute_result"
    }
   ],
   "source": [
    "df['Ecology_3'].value_counts()"
   ]
  },
  {
   "cell_type": "code",
   "execution_count": 73,
   "id": "f219a071",
   "metadata": {},
   "outputs": [
    {
     "data": {
      "text/plain": [
       "B    9175\n",
       "A     825\n",
       "Name: Shops_2, dtype: int64"
      ]
     },
     "execution_count": 73,
     "metadata": {},
     "output_type": "execute_result"
    }
   ],
   "source": [
    "df['Shops_2'].value_counts()"
   ]
  },
  {
   "cell_type": "code",
   "execution_count": 74,
   "id": "b75c14fc",
   "metadata": {},
   "outputs": [],
   "source": [
    "df['Ecology_2_bin'] = df['Ecology_2'].replace({'A':0, 'B':1})\n",
    "df['Ecology_3_bin'] = df['Ecology_3'].replace({'A':0, 'B':1})\n",
    "df['Shops_2_bin'] = df['Shops_2'].replace({'A':0, 'B':1})"
   ]
  },
  {
   "cell_type": "markdown",
   "id": "e93138fd",
   "metadata": {},
   "source": [
    "### 8. Очистка данных и Feature engineering"
   ]
  },
  {
   "cell_type": "markdown",
   "id": "c2af84c5",
   "metadata": {},
   "source": [
    "**Оставим признаки, которые необходимы для модели**"
   ]
  },
  {
   "cell_type": "code",
   "execution_count": 75,
   "id": "f4af5ea1",
   "metadata": {},
   "outputs": [
    {
     "data": {
      "text/plain": [
       "['Id',\n",
       " 'DistrictId',\n",
       " 'Rooms',\n",
       " 'Square',\n",
       " 'LifeSquare',\n",
       " 'KitchenSquare',\n",
       " 'Floor',\n",
       " 'HouseFloor',\n",
       " 'HouseYear',\n",
       " 'Ecology_1',\n",
       " 'Ecology_2',\n",
       " 'Ecology_3',\n",
       " 'Social_1',\n",
       " 'Social_2',\n",
       " 'Social_3',\n",
       " 'Healthcare_1',\n",
       " 'Helthcare_2',\n",
       " 'Shops_1',\n",
       " 'Shops_2',\n",
       " 'Price',\n",
       " 'Ecology_2_bin',\n",
       " 'Ecology_3_bin',\n",
       " 'Shops_2_bin']"
      ]
     },
     "execution_count": 75,
     "metadata": {},
     "output_type": "execute_result"
    }
   ],
   "source": [
    "df.columns.tolist()"
   ]
  },
  {
   "cell_type": "code",
   "execution_count": 76,
   "id": "8988b260",
   "metadata": {
    "scrolled": false
   },
   "outputs": [
    {
     "name": "stdout",
     "output_type": "stream",
     "text": [
      "<class 'pandas.core.frame.DataFrame'>\n",
      "RangeIndex: 10000 entries, 0 to 9999\n",
      "Data columns (total 23 columns):\n",
      " #   Column         Non-Null Count  Dtype   \n",
      "---  ------         --------------  -----   \n",
      " 0   Id             10000 non-null  int16   \n",
      " 1   DistrictId     10000 non-null  int16   \n",
      " 2   Rooms          10000 non-null  float32 \n",
      " 3   Square         10000 non-null  float32 \n",
      " 4   LifeSquare     8665 non-null   float32 \n",
      " 5   KitchenSquare  8665 non-null   float32 \n",
      " 6   Floor          8387 non-null   float64 \n",
      " 7   HouseFloor     8387 non-null   float32 \n",
      " 8   HouseYear      10000 non-null  int32   \n",
      " 9   Ecology_1      10000 non-null  float32 \n",
      " 10  Ecology_2      10000 non-null  category\n",
      " 11  Ecology_3      10000 non-null  category\n",
      " 12  Social_1       10000 non-null  float64 \n",
      " 13  Social_2       10000 non-null  float64 \n",
      " 14  Social_3       10000 non-null  float64 \n",
      " 15  Healthcare_1   10000 non-null  float32 \n",
      " 16  Helthcare_2    10000 non-null  int8    \n",
      " 17  Shops_1        10000 non-null  int8    \n",
      " 18  Shops_2        10000 non-null  category\n",
      " 19  Price          10000 non-null  float32 \n",
      " 20  Ecology_2_bin  10000 non-null  int64   \n",
      " 21  Ecology_3_bin  10000 non-null  int64   \n",
      " 22  Shops_2_bin    10000 non-null  int64   \n",
      "dtypes: category(3), float32(8), float64(4), int16(2), int32(1), int64(3), int8(2)\n",
      "memory usage: 986.8 KB\n"
     ]
    }
   ],
   "source": [
    "df.info()"
   ]
  },
  {
   "cell_type": "code",
   "execution_count": 77,
   "id": "cadb3fc6",
   "metadata": {},
   "outputs": [],
   "source": [
    "df['LifeSquare'] = df['LifeSquare'].fillna(df['LifeSquare'].median())\n",
    "df['KitchenSquare'] = df['KitchenSquare'].fillna(df['KitchenSquare'].median())\n",
    "df['Floor'] = df['Floor'].fillna(df['Floor'].median())\n",
    "df['HouseFloor'] = df['HouseFloor'].fillna(df['HouseFloor'].median())"
   ]
  },
  {
   "cell_type": "code",
   "execution_count": 78,
   "id": "d3207ac7",
   "metadata": {},
   "outputs": [
    {
     "name": "stdout",
     "output_type": "stream",
     "text": [
      "<class 'pandas.core.frame.DataFrame'>\n",
      "RangeIndex: 10000 entries, 0 to 9999\n",
      "Data columns (total 23 columns):\n",
      " #   Column         Non-Null Count  Dtype   \n",
      "---  ------         --------------  -----   \n",
      " 0   Id             10000 non-null  int16   \n",
      " 1   DistrictId     10000 non-null  int16   \n",
      " 2   Rooms          10000 non-null  float32 \n",
      " 3   Square         10000 non-null  float32 \n",
      " 4   LifeSquare     10000 non-null  float32 \n",
      " 5   KitchenSquare  10000 non-null  float32 \n",
      " 6   Floor          10000 non-null  float64 \n",
      " 7   HouseFloor     10000 non-null  float32 \n",
      " 8   HouseYear      10000 non-null  int32   \n",
      " 9   Ecology_1      10000 non-null  float32 \n",
      " 10  Ecology_2      10000 non-null  category\n",
      " 11  Ecology_3      10000 non-null  category\n",
      " 12  Social_1       10000 non-null  float64 \n",
      " 13  Social_2       10000 non-null  float64 \n",
      " 14  Social_3       10000 non-null  float64 \n",
      " 15  Healthcare_1   10000 non-null  float32 \n",
      " 16  Helthcare_2    10000 non-null  int8    \n",
      " 17  Shops_1        10000 non-null  int8    \n",
      " 18  Shops_2        10000 non-null  category\n",
      " 19  Price          10000 non-null  float32 \n",
      " 20  Ecology_2_bin  10000 non-null  int64   \n",
      " 21  Ecology_3_bin  10000 non-null  int64   \n",
      " 22  Shops_2_bin    10000 non-null  int64   \n",
      "dtypes: category(3), float32(8), float64(4), int16(2), int32(1), int64(3), int8(2)\n",
      "memory usage: 986.8 KB\n"
     ]
    }
   ],
   "source": [
    "df.info()"
   ]
  },
  {
   "cell_type": "code",
   "execution_count": 79,
   "id": "59af1397",
   "metadata": {},
   "outputs": [],
   "source": [
    "feature_names = ['DistrictId', 'Rooms', 'Square', 'LifeSquare', 'KitchenSquare', 'Floor', 'HouseFloor', 'HouseYear', \n",
    "                 'Ecology_1', 'Social_1', 'Social_2', 'Social_3', 'Healthcare_1', 'Helthcare_2', 'Shops_1','Ecology_2_bin',\n",
    "                 'Ecology_3_bin', 'Shops_2_bin']\n",
    "\n",
    "target_name = 'Price'"
   ]
  },
  {
   "cell_type": "code",
   "execution_count": 80,
   "id": "9a19322f",
   "metadata": {
    "scrolled": false
   },
   "outputs": [
    {
     "data": {
      "text/html": [
       "<div>\n",
       "<style scoped>\n",
       "    .dataframe tbody tr th:only-of-type {\n",
       "        vertical-align: middle;\n",
       "    }\n",
       "\n",
       "    .dataframe tbody tr th {\n",
       "        vertical-align: top;\n",
       "    }\n",
       "\n",
       "    .dataframe thead th {\n",
       "        text-align: right;\n",
       "    }\n",
       "</style>\n",
       "<table border=\"1\" class=\"dataframe\">\n",
       "  <thead>\n",
       "    <tr style=\"text-align: right;\">\n",
       "      <th></th>\n",
       "      <th>DistrictId</th>\n",
       "      <th>Rooms</th>\n",
       "      <th>Square</th>\n",
       "      <th>LifeSquare</th>\n",
       "      <th>KitchenSquare</th>\n",
       "      <th>Floor</th>\n",
       "      <th>HouseFloor</th>\n",
       "      <th>HouseYear</th>\n",
       "      <th>Ecology_1</th>\n",
       "      <th>Social_1</th>\n",
       "      <th>Social_2</th>\n",
       "      <th>Social_3</th>\n",
       "      <th>Healthcare_1</th>\n",
       "      <th>Helthcare_2</th>\n",
       "      <th>Shops_1</th>\n",
       "      <th>Ecology_2_bin</th>\n",
       "      <th>Ecology_3_bin</th>\n",
       "      <th>Shops_2_bin</th>\n",
       "      <th>Price</th>\n",
       "    </tr>\n",
       "  </thead>\n",
       "  <tbody>\n",
       "    <tr>\n",
       "      <th>0</th>\n",
       "      <td>27</td>\n",
       "      <td>3.0</td>\n",
       "      <td>115.027313</td>\n",
       "      <td>32.781261</td>\n",
       "      <td>10.0</td>\n",
       "      <td>4.0</td>\n",
       "      <td>10.0</td>\n",
       "      <td>2014</td>\n",
       "      <td>0.075424</td>\n",
       "      <td>11.0</td>\n",
       "      <td>3097.0</td>\n",
       "      <td>2.0</td>\n",
       "      <td>900.0</td>\n",
       "      <td>0</td>\n",
       "      <td>0</td>\n",
       "      <td>1</td>\n",
       "      <td>1</td>\n",
       "      <td>1</td>\n",
       "      <td>305018.875000</td>\n",
       "    </tr>\n",
       "    <tr>\n",
       "      <th>1</th>\n",
       "      <td>22</td>\n",
       "      <td>1.0</td>\n",
       "      <td>39.832523</td>\n",
       "      <td>23.169222</td>\n",
       "      <td>8.0</td>\n",
       "      <td>7.0</td>\n",
       "      <td>8.0</td>\n",
       "      <td>1966</td>\n",
       "      <td>0.118537</td>\n",
       "      <td>30.0</td>\n",
       "      <td>6207.0</td>\n",
       "      <td>1.0</td>\n",
       "      <td>1183.0</td>\n",
       "      <td>1</td>\n",
       "      <td>0</td>\n",
       "      <td>1</td>\n",
       "      <td>1</td>\n",
       "      <td>1</td>\n",
       "      <td>177734.546875</td>\n",
       "    </tr>\n",
       "    <tr>\n",
       "      <th>2</th>\n",
       "      <td>1</td>\n",
       "      <td>3.0</td>\n",
       "      <td>78.342216</td>\n",
       "      <td>47.671970</td>\n",
       "      <td>10.0</td>\n",
       "      <td>2.0</td>\n",
       "      <td>17.0</td>\n",
       "      <td>1988</td>\n",
       "      <td>0.025609</td>\n",
       "      <td>33.0</td>\n",
       "      <td>5261.0</td>\n",
       "      <td>2.0</td>\n",
       "      <td>240.0</td>\n",
       "      <td>3</td>\n",
       "      <td>1</td>\n",
       "      <td>1</td>\n",
       "      <td>1</td>\n",
       "      <td>1</td>\n",
       "      <td>282078.718750</td>\n",
       "    </tr>\n",
       "    <tr>\n",
       "      <th>3</th>\n",
       "      <td>1</td>\n",
       "      <td>1.0</td>\n",
       "      <td>40.409908</td>\n",
       "      <td>32.781261</td>\n",
       "      <td>6.0</td>\n",
       "      <td>10.0</td>\n",
       "      <td>22.0</td>\n",
       "      <td>1977</td>\n",
       "      <td>0.007122</td>\n",
       "      <td>25.0</td>\n",
       "      <td>5285.0</td>\n",
       "      <td>2.0</td>\n",
       "      <td>900.0</td>\n",
       "      <td>0</td>\n",
       "      <td>1</td>\n",
       "      <td>1</td>\n",
       "      <td>1</td>\n",
       "      <td>1</td>\n",
       "      <td>168106.000000</td>\n",
       "    </tr>\n",
       "    <tr>\n",
       "      <th>4</th>\n",
       "      <td>94</td>\n",
       "      <td>2.0</td>\n",
       "      <td>64.285065</td>\n",
       "      <td>38.562515</td>\n",
       "      <td>9.0</td>\n",
       "      <td>16.0</td>\n",
       "      <td>16.0</td>\n",
       "      <td>1972</td>\n",
       "      <td>0.282798</td>\n",
       "      <td>33.0</td>\n",
       "      <td>8667.0</td>\n",
       "      <td>2.0</td>\n",
       "      <td>900.0</td>\n",
       "      <td>0</td>\n",
       "      <td>6</td>\n",
       "      <td>1</td>\n",
       "      <td>1</td>\n",
       "      <td>1</td>\n",
       "      <td>343995.093750</td>\n",
       "    </tr>\n",
       "  </tbody>\n",
       "</table>\n",
       "</div>"
      ],
      "text/plain": [
       "   DistrictId  Rooms      Square  LifeSquare  KitchenSquare  Floor  \\\n",
       "0          27    3.0  115.027313   32.781261           10.0    4.0   \n",
       "1          22    1.0   39.832523   23.169222            8.0    7.0   \n",
       "2           1    3.0   78.342216   47.671970           10.0    2.0   \n",
       "3           1    1.0   40.409908   32.781261            6.0   10.0   \n",
       "4          94    2.0   64.285065   38.562515            9.0   16.0   \n",
       "\n",
       "   HouseFloor  HouseYear  Ecology_1  Social_1  Social_2  Social_3  \\\n",
       "0        10.0       2014   0.075424      11.0    3097.0       2.0   \n",
       "1         8.0       1966   0.118537      30.0    6207.0       1.0   \n",
       "2        17.0       1988   0.025609      33.0    5261.0       2.0   \n",
       "3        22.0       1977   0.007122      25.0    5285.0       2.0   \n",
       "4        16.0       1972   0.282798      33.0    8667.0       2.0   \n",
       "\n",
       "   Healthcare_1  Helthcare_2  Shops_1  Ecology_2_bin  Ecology_3_bin  \\\n",
       "0         900.0            0        0              1              1   \n",
       "1        1183.0            1        0              1              1   \n",
       "2         240.0            3        1              1              1   \n",
       "3         900.0            0        1              1              1   \n",
       "4         900.0            0        6              1              1   \n",
       "\n",
       "   Shops_2_bin          Price  \n",
       "0            1  305018.875000  \n",
       "1            1  177734.546875  \n",
       "2            1  282078.718750  \n",
       "3            1  168106.000000  \n",
       "4            1  343995.093750  "
      ]
     },
     "execution_count": 80,
     "metadata": {},
     "output_type": "execute_result"
    }
   ],
   "source": [
    "df = df[feature_names + [target_name]]\n",
    "df.head()"
   ]
  },
  {
   "cell_type": "markdown",
   "id": "2f37d3b9",
   "metadata": {},
   "source": [
    "**Стандартизация признаков** "
   ]
  },
  {
   "cell_type": "code",
   "execution_count": 81,
   "id": "32cfa780",
   "metadata": {},
   "outputs": [
    {
     "data": {
      "text/plain": [
       "['DistrictId',\n",
       " 'Rooms',\n",
       " 'Square',\n",
       " 'LifeSquare',\n",
       " 'KitchenSquare',\n",
       " 'Floor',\n",
       " 'HouseFloor',\n",
       " 'HouseYear',\n",
       " 'Ecology_1',\n",
       " 'Social_1',\n",
       " 'Social_2',\n",
       " 'Social_3',\n",
       " 'Healthcare_1',\n",
       " 'Ecology_2_bin',\n",
       " 'Ecology_3_bin',\n",
       " 'Shops_2_bin']"
      ]
     },
     "execution_count": 81,
     "metadata": {},
     "output_type": "execute_result"
    }
   ],
   "source": [
    "feature_names_for_stand = df[feature_names].select_dtypes(include=['float32', 'float64','int64', 'int32','int16']).columns.tolist()\n",
    "feature_names_for_stand"
   ]
  },
  {
   "cell_type": "code",
   "execution_count": 82,
   "id": "ad9ee57c",
   "metadata": {},
   "outputs": [],
   "source": [
    "scaler = StandardScaler()\n",
    "stand_features = scaler.fit_transform(df[feature_names_for_stand])"
   ]
  },
  {
   "cell_type": "code",
   "execution_count": 83,
   "id": "514434b3",
   "metadata": {},
   "outputs": [
    {
     "data": {
      "text/html": [
       "<div>\n",
       "<style scoped>\n",
       "    .dataframe tbody tr th:only-of-type {\n",
       "        vertical-align: middle;\n",
       "    }\n",
       "\n",
       "    .dataframe tbody tr th {\n",
       "        vertical-align: top;\n",
       "    }\n",
       "\n",
       "    .dataframe thead th {\n",
       "        text-align: right;\n",
       "    }\n",
       "</style>\n",
       "<table border=\"1\" class=\"dataframe\">\n",
       "  <thead>\n",
       "    <tr style=\"text-align: right;\">\n",
       "      <th></th>\n",
       "      <th>DistrictId</th>\n",
       "      <th>Rooms</th>\n",
       "      <th>Square</th>\n",
       "      <th>LifeSquare</th>\n",
       "      <th>KitchenSquare</th>\n",
       "      <th>Floor</th>\n",
       "      <th>HouseFloor</th>\n",
       "      <th>HouseYear</th>\n",
       "      <th>Ecology_1</th>\n",
       "      <th>Social_1</th>\n",
       "      <th>Social_2</th>\n",
       "      <th>Social_3</th>\n",
       "      <th>Healthcare_1</th>\n",
       "      <th>Helthcare_2</th>\n",
       "      <th>Shops_1</th>\n",
       "      <th>Ecology_2_bin</th>\n",
       "      <th>Ecology_3_bin</th>\n",
       "      <th>Shops_2_bin</th>\n",
       "      <th>Price</th>\n",
       "    </tr>\n",
       "  </thead>\n",
       "  <tbody>\n",
       "    <tr>\n",
       "      <th>0</th>\n",
       "      <td>-0.536895</td>\n",
       "      <td>1.370628</td>\n",
       "      <td>3.372737</td>\n",
       "      <td>0.012462</td>\n",
       "      <td>1.348705</td>\n",
       "      <td>-0.846061</td>\n",
       "      <td>-0.770987</td>\n",
       "      <td>1.581696</td>\n",
       "      <td>-0.364931</td>\n",
       "      <td>-1.340083</td>\n",
       "      <td>-0.813649</td>\n",
       "      <td>-0.440268</td>\n",
       "      <td>-0.080886</td>\n",
       "      <td>0</td>\n",
       "      <td>0</td>\n",
       "      <td>0.09897</td>\n",
       "      <td>0.16816</td>\n",
       "      <td>0.299864</td>\n",
       "      <td>305018.875000</td>\n",
       "    </tr>\n",
       "    <tr>\n",
       "      <th>1</th>\n",
       "      <td>-0.651613</td>\n",
       "      <td>-1.095417</td>\n",
       "      <td>-0.904592</td>\n",
       "      <td>-1.008638</td>\n",
       "      <td>0.383103</td>\n",
       "      <td>-0.185024</td>\n",
       "      <td>-1.158769</td>\n",
       "      <td>-1.024815</td>\n",
       "      <td>-0.002690</td>\n",
       "      <td>0.213485</td>\n",
       "      <td>0.243978</td>\n",
       "      <td>-0.842634</td>\n",
       "      <td>0.432894</td>\n",
       "      <td>1</td>\n",
       "      <td>0</td>\n",
       "      <td>0.09897</td>\n",
       "      <td>0.16816</td>\n",
       "      <td>0.299864</td>\n",
       "      <td>177734.546875</td>\n",
       "    </tr>\n",
       "    <tr>\n",
       "      <th>2</th>\n",
       "      <td>-1.133425</td>\n",
       "      <td>1.370628</td>\n",
       "      <td>1.285967</td>\n",
       "      <td>1.594322</td>\n",
       "      <td>1.348705</td>\n",
       "      <td>-1.286752</td>\n",
       "      <td>0.586248</td>\n",
       "      <td>0.169836</td>\n",
       "      <td>-0.783473</td>\n",
       "      <td>0.458785</td>\n",
       "      <td>-0.077731</td>\n",
       "      <td>-0.440268</td>\n",
       "      <td>-1.279100</td>\n",
       "      <td>3</td>\n",
       "      <td>1</td>\n",
       "      <td>0.09897</td>\n",
       "      <td>0.16816</td>\n",
       "      <td>0.299864</td>\n",
       "      <td>282078.718750</td>\n",
       "    </tr>\n",
       "    <tr>\n",
       "      <th>3</th>\n",
       "      <td>-1.133425</td>\n",
       "      <td>-1.095417</td>\n",
       "      <td>-0.871749</td>\n",
       "      <td>0.012462</td>\n",
       "      <td>-0.582500</td>\n",
       "      <td>0.476013</td>\n",
       "      <td>1.555702</td>\n",
       "      <td>-0.427489</td>\n",
       "      <td>-0.938799</td>\n",
       "      <td>-0.195349</td>\n",
       "      <td>-0.069569</td>\n",
       "      <td>-0.440268</td>\n",
       "      <td>-0.080886</td>\n",
       "      <td>0</td>\n",
       "      <td>1</td>\n",
       "      <td>0.09897</td>\n",
       "      <td>0.16816</td>\n",
       "      <td>0.299864</td>\n",
       "      <td>168106.000000</td>\n",
       "    </tr>\n",
       "    <tr>\n",
       "      <th>4</th>\n",
       "      <td>1.000316</td>\n",
       "      <td>0.137605</td>\n",
       "      <td>0.486349</td>\n",
       "      <td>0.626612</td>\n",
       "      <td>0.865904</td>\n",
       "      <td>1.798086</td>\n",
       "      <td>0.392357</td>\n",
       "      <td>-0.699001</td>\n",
       "      <td>1.377425</td>\n",
       "      <td>0.458785</td>\n",
       "      <td>1.080558</td>\n",
       "      <td>-0.440268</td>\n",
       "      <td>-0.080886</td>\n",
       "      <td>0</td>\n",
       "      <td>6</td>\n",
       "      <td>0.09897</td>\n",
       "      <td>0.16816</td>\n",
       "      <td>0.299864</td>\n",
       "      <td>343995.093750</td>\n",
       "    </tr>\n",
       "  </tbody>\n",
       "</table>\n",
       "</div>"
      ],
      "text/plain": [
       "   DistrictId     Rooms    Square  LifeSquare  KitchenSquare     Floor  \\\n",
       "0   -0.536895  1.370628  3.372737    0.012462       1.348705 -0.846061   \n",
       "1   -0.651613 -1.095417 -0.904592   -1.008638       0.383103 -0.185024   \n",
       "2   -1.133425  1.370628  1.285967    1.594322       1.348705 -1.286752   \n",
       "3   -1.133425 -1.095417 -0.871749    0.012462      -0.582500  0.476013   \n",
       "4    1.000316  0.137605  0.486349    0.626612       0.865904  1.798086   \n",
       "\n",
       "   HouseFloor  HouseYear  Ecology_1  Social_1  Social_2  Social_3  \\\n",
       "0   -0.770987   1.581696  -0.364931 -1.340083 -0.813649 -0.440268   \n",
       "1   -1.158769  -1.024815  -0.002690  0.213485  0.243978 -0.842634   \n",
       "2    0.586248   0.169836  -0.783473  0.458785 -0.077731 -0.440268   \n",
       "3    1.555702  -0.427489  -0.938799 -0.195349 -0.069569 -0.440268   \n",
       "4    0.392357  -0.699001   1.377425  0.458785  1.080558 -0.440268   \n",
       "\n",
       "   Healthcare_1  Helthcare_2  Shops_1  Ecology_2_bin  Ecology_3_bin  \\\n",
       "0     -0.080886            0        0        0.09897        0.16816   \n",
       "1      0.432894            1        0        0.09897        0.16816   \n",
       "2     -1.279100            3        1        0.09897        0.16816   \n",
       "3     -0.080886            0        1        0.09897        0.16816   \n",
       "4     -0.080886            0        6        0.09897        0.16816   \n",
       "\n",
       "   Shops_2_bin          Price  \n",
       "0     0.299864  305018.875000  \n",
       "1     0.299864  177734.546875  \n",
       "2     0.299864  282078.718750  \n",
       "3     0.299864  168106.000000  \n",
       "4     0.299864  343995.093750  "
      ]
     },
     "execution_count": 83,
     "metadata": {},
     "output_type": "execute_result"
    }
   ],
   "source": [
    "df[feature_names_for_stand] = pd.DataFrame(stand_features, columns=feature_names_for_stand)\n",
    "df.head()"
   ]
  },
  {
   "cell_type": "markdown",
   "id": "3e0c8558",
   "metadata": {},
   "source": [
    "### 9. Разбиение на train / test"
   ]
  },
  {
   "cell_type": "code",
   "execution_count": 84,
   "id": "0183033b",
   "metadata": {},
   "outputs": [],
   "source": [
    "X = df[feature_names]\n",
    "y = df[target_name]\n",
    "\n",
    "X_train, X_test, y_train, y_test = train_test_split(X, y, test_size=0.33, shuffle=True, random_state=42)"
   ]
  },
  {
   "cell_type": "markdown",
   "id": "aab38d44",
   "metadata": {},
   "source": [
    "### 10. Построение модели"
   ]
  },
  {
   "cell_type": "markdown",
   "id": "a64890bb",
   "metadata": {},
   "source": [
    "По результатам оценки нескольких моделей LinearRegression, DecisionTreeRegressor, RandomForestRegressor, GradientBoostingRegressor выбрана лучшая модель GradientBoostingRegressor"
   ]
  },
  {
   "cell_type": "markdown",
   "id": "7a207ba1",
   "metadata": {},
   "source": [
    "### 10.1 Gradient Boosting decision trees"
   ]
  },
  {
   "cell_type": "code",
   "execution_count": 85,
   "id": "1b753c0f",
   "metadata": {},
   "outputs": [],
   "source": [
    "def evaluate_preds(true_values, pred_values, save=False):\n",
    "    \"\"\"Оценка качества модели и график preds vs true\"\"\"\n",
    "    \n",
    "    print(\"R2:\\t\" + str(round(r2(true_values, pred_values), 3)) + \"\\n\" +\n",
    "          \"RMSE:\\t\" + str(round(np.sqrt(mse(true_values, pred_values)), 3)) + \"\\n\" +\n",
    "          \"MSE:\\t\" + str(round(mse(true_values, pred_values), 3))\n",
    "         )\n",
    "    \n",
    "    plt.figure(figsize=(8,8))\n",
    "    \n",
    "    sns.scatterplot(x=pred_values, y=true_values)\n",
    "    plt.plot([0, 500000], [0, 500000], linestyle='--', color='black')  # диагональ, где true_values = pred_values\n",
    "    \n",
    "    plt.xlabel('Predicted values')\n",
    "    plt.ylabel('True values')\n",
    "    plt.title('True vs Predicted values')\n",
    "    \n",
    "    if save == True:\n",
    "        plt.savefig(REPORTS_FILE_PATH)\n",
    "    plt.show()"
   ]
  },
  {
   "cell_type": "code",
   "execution_count": 86,
   "id": "3a7b69db",
   "metadata": {},
   "outputs": [
    {
     "name": "stdout",
     "output_type": "stream",
     "text": [
      "R2:\t0.899\n",
      "RMSE:\t29078.732\n",
      "MSE:\t845572643.971\n"
     ]
    },
    {
     "data": {
      "image/png": "[encoded data removed]",
      "text/plain": [
       "<Figure size 576x576 with 1 Axes>"
      ]
     },
     "metadata": {
      "needs_background": "light"
     },
     "output_type": "display_data"
    }
   ],
   "source": [
    "gb_model = GradientBoostingRegressor(criterion='mse',\n",
    "                                     max_depth=7,\n",
    "                                     min_samples_leaf=10,\n",
    "                                     random_state=42,  \n",
    "                                     n_estimators=100)\n",
    "gb_model.fit(X_train, y_train)\n",
    "\n",
    "y_train_preds = gb_model.predict(X_train)\n",
    "evaluate_preds(y_train, y_train_preds)"
   ]
  },
  {
   "cell_type": "code",
   "execution_count": 87,
   "id": "18ef9641",
   "metadata": {},
   "outputs": [
    {
     "name": "stdout",
     "output_type": "stream",
     "text": [
      "R2:\t0.734\n",
      "RMSE:\t49532.717\n",
      "MSE:\t2453490092.02\n"
     ]
    },
    {
     "data": {
      "image/png": "[encoded data removed]",
      "text/plain": [
       "<Figure size 576x576 with 1 Axes>"
      ]
     },
     "metadata": {
      "needs_background": "light"
     },
     "output_type": "display_data"
    }
   ],
   "source": [
    "y_test_preds = gb_model.predict(X_test)\n",
    "evaluate_preds(y_test, y_test_preds)"
   ]
  },
  {
   "cell_type": "markdown",
   "id": "ccc64666",
   "metadata": {},
   "source": [
    "### 11. Настройка и оценка финальной модели"
   ]
  },
  {
   "cell_type": "code",
   "execution_count": 88,
   "id": "045c8b63",
   "metadata": {},
   "outputs": [],
   "source": [
    "#gb_model = GradientBoostingRegressor(criterion='mse',\n",
    "#                          min_samples_leaf=10,\n",
    "#                          random_state=42,\n",
    "#                         # n_estimators=100,\n",
    "#                         # max_depth=7\n",
    "#                         )"
   ]
  },
  {
   "cell_type": "code",
   "execution_count": 89,
   "id": "03688877",
   "metadata": {},
   "outputs": [],
   "source": [
    "#%%time\n",
    "#params = {'n_estimators':[50, 100, 200, 400], \n",
    "#          'max_depth':[3, 5, 7, 10]}\n",
    "\n",
    "#gs = GridSearchCV(gb_model, params, \n",
    "#                  scoring='r2', # метрика \n",
    "#                  cv=KFold(n_splits=5,   # k (кол-во разбиений/итераций) в кросс-валидации\n",
    "#                           random_state=21, \n",
    "#                           shuffle=True),\n",
    "#                  n_jobs=-1\n",
    "#                  )\n",
    "#gs.fit(X_train, y_train)"
   ]
  },
  {
   "cell_type": "code",
   "execution_count": 90,
   "id": "6caf928b",
   "metadata": {},
   "outputs": [],
   "source": [
    "#gs.best_params_\n",
    "# определены лучшие параметры:\n",
    "# {'max_depth': 5, 'n_estimators': 200}"
   ]
  },
  {
   "cell_type": "code",
   "execution_count": 91,
   "id": "0d3330f4",
   "metadata": {},
   "outputs": [],
   "source": [
    "#gs.best_score_\n",
    "# 0.7299762587739833"
   ]
  },
  {
   "cell_type": "markdown",
   "id": "e3c0e58b",
   "metadata": {},
   "source": [
    "**определены лучшие параметры:**\n",
    "- {'max_depth': 5, 'n_estimators': 200}"
   ]
  },
  {
   "cell_type": "markdown",
   "id": "b2e0da39",
   "metadata": {},
   "source": [
    "**Обучение и оценка модели**"
   ]
  },
  {
   "cell_type": "code",
   "execution_count": 92,
   "id": "72128f89",
   "metadata": {},
   "outputs": [
    {
     "data": {
      "text/plain": [
       "GradientBoostingRegressor(criterion='mse', max_depth=5, min_samples_leaf=10,\n",
       "                          n_estimators=200, random_state=42)"
      ]
     },
     "execution_count": 92,
     "metadata": {},
     "output_type": "execute_result"
    }
   ],
   "source": [
    "final_model = GradientBoostingRegressor(criterion='mse',\n",
    "                                        max_depth=5,\n",
    "                                        min_samples_leaf=10,\n",
    "                                        random_state=42,\n",
    "                                        n_estimators=200)\n",
    "\n",
    "final_model.fit(X_train, y_train)"
   ]
  },
  {
   "cell_type": "code",
   "execution_count": 93,
   "id": "b860ba2f",
   "metadata": {},
   "outputs": [
    {
     "name": "stdout",
     "output_type": "stream",
     "text": [
      "R2:\t0.88\n",
      "RMSE:\t31594.672\n",
      "MSE:\t998223300.624\n"
     ]
    },
    {
     "data": {
      "image/png": "[encoded data removed]",
      "text/plain": [
       "<Figure size 576x576 with 1 Axes>"
      ]
     },
     "metadata": {
      "needs_background": "light"
     },
     "output_type": "display_data"
    }
   ],
   "source": [
    "y_train_preds = final_model.predict(X_train)\n",
    "evaluate_preds(y_train.values, y_train_preds)\n"
   ]
  },
  {
   "cell_type": "code",
   "execution_count": 94,
   "id": "623279b5",
   "metadata": {},
   "outputs": [
    {
     "name": "stdout",
     "output_type": "stream",
     "text": [
      "R2:\t0.738\n",
      "RMSE:\t49088.054\n",
      "MSE:\t2409637090.895\n"
     ]
    },
    {
     "data": {
      "image/png": "[encoded data removed]",
      "text/plain": [
       "<Figure size 576x576 with 1 Axes>"
      ]
     },
     "metadata": {
      "needs_background": "light"
     },
     "output_type": "display_data"
    }
   ],
   "source": [
    "y_test_preds = final_model.predict(X_test)\n",
    "evaluate_preds(y_test, y_test_preds)"
   ]
  },
  {
   "cell_type": "markdown",
   "id": "a4cfa8cb",
   "metadata": {},
   "source": [
    "**Важность признаков**"
   ]
  },
  {
   "cell_type": "code",
   "execution_count": 95,
   "id": "97fcf6fd",
   "metadata": {},
   "outputs": [
    {
     "data": {
      "text/plain": [
       "array([1.12068626e-01, 6.09994751e-02, 3.70974361e-01, 8.44950663e-02,\n",
       "       2.04822168e-02, 9.77359532e-03, 1.72530715e-02, 4.03017744e-02,\n",
       "       4.60802364e-02, 1.94466554e-02, 6.94455734e-02, 6.12945439e-02,\n",
       "       2.27376227e-02, 3.71671975e-02, 2.71427354e-02, 6.09231724e-05,\n",
       "       1.40324449e-04, 1.36001476e-04])"
      ]
     },
     "execution_count": 95,
     "metadata": {},
     "output_type": "execute_result"
    }
   ],
   "source": [
    "final_model.feature_importances_"
   ]
  },
  {
   "cell_type": "code",
   "execution_count": 96,
   "id": "f52cadb2",
   "metadata": {},
   "outputs": [],
   "source": [
    "feature_importances = pd.DataFrame(zip(X_train.columns, \n",
    "                                       final_model.feature_importances_), \n",
    "                                   columns=['feature_name', 'importance'])\n",
    "\n",
    "feature_importances.sort_values(by='importance', ascending=False, inplace=True)"
   ]
  },
  {
   "cell_type": "code",
   "execution_count": 97,
   "id": "17208f93",
   "metadata": {},
   "outputs": [
    {
     "data": {
      "text/html": [
       "<div>\n",
       "<style scoped>\n",
       "    .dataframe tbody tr th:only-of-type {\n",
       "        vertical-align: middle;\n",
       "    }\n",
       "\n",
       "    .dataframe tbody tr th {\n",
       "        vertical-align: top;\n",
       "    }\n",
       "\n",
       "    .dataframe thead th {\n",
       "        text-align: right;\n",
       "    }\n",
       "</style>\n",
       "<table border=\"1\" class=\"dataframe\">\n",
       "  <thead>\n",
       "    <tr style=\"text-align: right;\">\n",
       "      <th></th>\n",
       "      <th>feature_name</th>\n",
       "      <th>importance</th>\n",
       "    </tr>\n",
       "  </thead>\n",
       "  <tbody>\n",
       "    <tr>\n",
       "      <th>2</th>\n",
       "      <td>Square</td>\n",
       "      <td>0.370974</td>\n",
       "    </tr>\n",
       "    <tr>\n",
       "      <th>0</th>\n",
       "      <td>DistrictId</td>\n",
       "      <td>0.112069</td>\n",
       "    </tr>\n",
       "    <tr>\n",
       "      <th>3</th>\n",
       "      <td>LifeSquare</td>\n",
       "      <td>0.084495</td>\n",
       "    </tr>\n",
       "    <tr>\n",
       "      <th>10</th>\n",
       "      <td>Social_2</td>\n",
       "      <td>0.069446</td>\n",
       "    </tr>\n",
       "    <tr>\n",
       "      <th>11</th>\n",
       "      <td>Social_3</td>\n",
       "      <td>0.061295</td>\n",
       "    </tr>\n",
       "  </tbody>\n",
       "</table>\n",
       "</div>"
      ],
      "text/plain": [
       "   feature_name  importance\n",
       "2        Square    0.370974\n",
       "0    DistrictId    0.112069\n",
       "3    LifeSquare    0.084495\n",
       "10     Social_2    0.069446\n",
       "11     Social_3    0.061295"
      ]
     },
     "execution_count": 97,
     "metadata": {},
     "output_type": "execute_result"
    }
   ],
   "source": [
    "feature_importances.head()"
   ]
  },
  {
   "cell_type": "code",
   "execution_count": 98,
   "id": "948e0a8b",
   "metadata": {},
   "outputs": [
    {
     "data": {
      "text/html": [
       "<div>\n",
       "<style scoped>\n",
       "    .dataframe tbody tr th:only-of-type {\n",
       "        vertical-align: middle;\n",
       "    }\n",
       "\n",
       "    .dataframe tbody tr th {\n",
       "        vertical-align: top;\n",
       "    }\n",
       "\n",
       "    .dataframe thead th {\n",
       "        text-align: right;\n",
       "    }\n",
       "</style>\n",
       "<table border=\"1\" class=\"dataframe\">\n",
       "  <thead>\n",
       "    <tr style=\"text-align: right;\">\n",
       "      <th></th>\n",
       "      <th>feature_name</th>\n",
       "      <th>importance</th>\n",
       "    </tr>\n",
       "  </thead>\n",
       "  <tbody>\n",
       "    <tr>\n",
       "      <th>6</th>\n",
       "      <td>HouseFloor</td>\n",
       "      <td>0.017253</td>\n",
       "    </tr>\n",
       "    <tr>\n",
       "      <th>5</th>\n",
       "      <td>Floor</td>\n",
       "      <td>0.009774</td>\n",
       "    </tr>\n",
       "    <tr>\n",
       "      <th>16</th>\n",
       "      <td>Ecology_3_bin</td>\n",
       "      <td>0.000140</td>\n",
       "    </tr>\n",
       "    <tr>\n",
       "      <th>17</th>\n",
       "      <td>Shops_2_bin</td>\n",
       "      <td>0.000136</td>\n",
       "    </tr>\n",
       "    <tr>\n",
       "      <th>15</th>\n",
       "      <td>Ecology_2_bin</td>\n",
       "      <td>0.000061</td>\n",
       "    </tr>\n",
       "  </tbody>\n",
       "</table>\n",
       "</div>"
      ],
      "text/plain": [
       "     feature_name  importance\n",
       "6      HouseFloor    0.017253\n",
       "5           Floor    0.009774\n",
       "16  Ecology_3_bin    0.000140\n",
       "17    Shops_2_bin    0.000136\n",
       "15  Ecology_2_bin    0.000061"
      ]
     },
     "execution_count": 98,
     "metadata": {},
     "output_type": "execute_result"
    }
   ],
   "source": [
    "feature_importances.tail()"
   ]
  },
  {
   "cell_type": "markdown",
   "id": "55dc96f6",
   "metadata": {},
   "source": [
    "### ТЕСТОВАЯ МОДЕЛЬ"
   ]
  },
  {
   "cell_type": "code",
   "execution_count": 99,
   "id": "2e1364cd",
   "metadata": {},
   "outputs": [
    {
     "data": {
      "text/html": [
       "<div>\n",
       "<style scoped>\n",
       "    .dataframe tbody tr th:only-of-type {\n",
       "        vertical-align: middle;\n",
       "    }\n",
       "\n",
       "    .dataframe tbody tr th {\n",
       "        vertical-align: top;\n",
       "    }\n",
       "\n",
       "    .dataframe thead th {\n",
       "        text-align: right;\n",
       "    }\n",
       "</style>\n",
       "<table border=\"1\" class=\"dataframe\">\n",
       "  <thead>\n",
       "    <tr style=\"text-align: right;\">\n",
       "      <th></th>\n",
       "      <th>Id</th>\n",
       "      <th>DistrictId</th>\n",
       "      <th>Rooms</th>\n",
       "      <th>Square</th>\n",
       "      <th>LifeSquare</th>\n",
       "      <th>KitchenSquare</th>\n",
       "      <th>Floor</th>\n",
       "      <th>HouseFloor</th>\n",
       "      <th>HouseYear</th>\n",
       "      <th>Ecology_1</th>\n",
       "      <th>Ecology_2</th>\n",
       "      <th>Ecology_3</th>\n",
       "      <th>Social_1</th>\n",
       "      <th>Social_2</th>\n",
       "      <th>Social_3</th>\n",
       "      <th>Healthcare_1</th>\n",
       "      <th>Helthcare_2</th>\n",
       "      <th>Shops_1</th>\n",
       "      <th>Shops_2</th>\n",
       "    </tr>\n",
       "  </thead>\n",
       "  <tbody>\n",
       "    <tr>\n",
       "      <th>0</th>\n",
       "      <td>4567</td>\n",
       "      <td>44</td>\n",
       "      <td>1.0</td>\n",
       "      <td>36.847630</td>\n",
       "      <td>19.094182</td>\n",
       "      <td>5.0</td>\n",
       "      <td>5</td>\n",
       "      <td>9.0</td>\n",
       "      <td>1970</td>\n",
       "      <td>0.036122</td>\n",
       "      <td>B</td>\n",
       "      <td>B</td>\n",
       "      <td>24</td>\n",
       "      <td>4378</td>\n",
       "      <td>0</td>\n",
       "      <td>1036.0</td>\n",
       "      <td>1</td>\n",
       "      <td>1</td>\n",
       "      <td>B</td>\n",
       "    </tr>\n",
       "    <tr>\n",
       "      <th>1</th>\n",
       "      <td>5925</td>\n",
       "      <td>62</td>\n",
       "      <td>1.0</td>\n",
       "      <td>42.493907</td>\n",
       "      <td>42.568133</td>\n",
       "      <td>10.0</td>\n",
       "      <td>7</td>\n",
       "      <td>17.0</td>\n",
       "      <td>2017</td>\n",
       "      <td>0.072158</td>\n",
       "      <td>B</td>\n",
       "      <td>B</td>\n",
       "      <td>2</td>\n",
       "      <td>629</td>\n",
       "      <td>1</td>\n",
       "      <td>NaN</td>\n",
       "      <td>0</td>\n",
       "      <td>0</td>\n",
       "      <td>A</td>\n",
       "    </tr>\n",
       "    <tr>\n",
       "      <th>2</th>\n",
       "      <td>960</td>\n",
       "      <td>27</td>\n",
       "      <td>2.0</td>\n",
       "      <td>59.463678</td>\n",
       "      <td>NaN</td>\n",
       "      <td>9.0</td>\n",
       "      <td>19</td>\n",
       "      <td>19.0</td>\n",
       "      <td>1977</td>\n",
       "      <td>0.211401</td>\n",
       "      <td>B</td>\n",
       "      <td>B</td>\n",
       "      <td>9</td>\n",
       "      <td>1892</td>\n",
       "      <td>0</td>\n",
       "      <td>NaN</td>\n",
       "      <td>0</td>\n",
       "      <td>1</td>\n",
       "      <td>B</td>\n",
       "    </tr>\n",
       "    <tr>\n",
       "      <th>3</th>\n",
       "      <td>3848</td>\n",
       "      <td>23</td>\n",
       "      <td>3.0</td>\n",
       "      <td>49.646030</td>\n",
       "      <td>33.893825</td>\n",
       "      <td>6.0</td>\n",
       "      <td>2</td>\n",
       "      <td>2.0</td>\n",
       "      <td>1965</td>\n",
       "      <td>0.014073</td>\n",
       "      <td>B</td>\n",
       "      <td>B</td>\n",
       "      <td>2</td>\n",
       "      <td>475</td>\n",
       "      <td>0</td>\n",
       "      <td>NaN</td>\n",
       "      <td>0</td>\n",
       "      <td>0</td>\n",
       "      <td>B</td>\n",
       "    </tr>\n",
       "    <tr>\n",
       "      <th>4</th>\n",
       "      <td>746</td>\n",
       "      <td>74</td>\n",
       "      <td>1.0</td>\n",
       "      <td>53.837056</td>\n",
       "      <td>NaN</td>\n",
       "      <td>1.0</td>\n",
       "      <td>8</td>\n",
       "      <td>17.0</td>\n",
       "      <td>1977</td>\n",
       "      <td>0.309479</td>\n",
       "      <td>B</td>\n",
       "      <td>B</td>\n",
       "      <td>35</td>\n",
       "      <td>7715</td>\n",
       "      <td>4</td>\n",
       "      <td>990.0</td>\n",
       "      <td>0</td>\n",
       "      <td>6</td>\n",
       "      <td>B</td>\n",
       "    </tr>\n",
       "  </tbody>\n",
       "</table>\n",
       "</div>"
      ],
      "text/plain": [
       "     Id  DistrictId  Rooms     Square  LifeSquare  KitchenSquare  Floor  \\\n",
       "0  4567          44    1.0  36.847630   19.094182            5.0      5   \n",
       "1  5925          62    1.0  42.493907   42.568133           10.0      7   \n",
       "2   960          27    2.0  59.463678         NaN            9.0     19   \n",
       "3  3848          23    3.0  49.646030   33.893825            6.0      2   \n",
       "4   746          74    1.0  53.837056         NaN            1.0      8   \n",
       "\n",
       "   HouseFloor  HouseYear  Ecology_1 Ecology_2 Ecology_3  Social_1  Social_2  \\\n",
       "0         9.0       1970   0.036122         B         B        24      4378   \n",
       "1        17.0       2017   0.072158         B         B         2       629   \n",
       "2        19.0       1977   0.211401         B         B         9      1892   \n",
       "3         2.0       1965   0.014073         B         B         2       475   \n",
       "4        17.0       1977   0.309479         B         B        35      7715   \n",
       "\n",
       "   Social_3  Healthcare_1  Helthcare_2  Shops_1 Shops_2  \n",
       "0         0        1036.0            1        1       B  \n",
       "1         1           NaN            0        0       A  \n",
       "2         0           NaN            0        1       B  \n",
       "3         0           NaN            0        0       B  \n",
       "4         4         990.0            0        6       B  "
      ]
     },
     "execution_count": 99,
     "metadata": {},
     "output_type": "execute_result"
    }
   ],
   "source": [
    "test_df = pd.read_csv(TEST_DATASET_PATH)\n",
    "test_df.head()"
   ]
  },
  {
   "cell_type": "code",
   "execution_count": 100,
   "id": "2e4af6ae",
   "metadata": {
    "scrolled": true
   },
   "outputs": [
    {
     "data": {
      "text/plain": [
       "Id                  0\n",
       "DistrictId          0\n",
       "Rooms               0\n",
       "Square              0\n",
       "LifeSquare       1041\n",
       "KitchenSquare       0\n",
       "Floor               0\n",
       "HouseFloor          0\n",
       "HouseYear           0\n",
       "Ecology_1           0\n",
       "Ecology_2           0\n",
       "Ecology_3           0\n",
       "Social_1            0\n",
       "Social_2            0\n",
       "Social_3            0\n",
       "Healthcare_1     2377\n",
       "Helthcare_2         0\n",
       "Shops_1             0\n",
       "Shops_2             0\n",
       "dtype: int64"
      ]
     },
     "execution_count": 100,
     "metadata": {},
     "output_type": "execute_result"
    }
   ],
   "source": [
    "test_df.isna().sum()"
   ]
  },
  {
   "cell_type": "code",
   "execution_count": 101,
   "id": "0d16d280",
   "metadata": {},
   "outputs": [
    {
     "name": "stdout",
     "output_type": "stream",
     "text": [
      "Memory usage of dataframe is 0.72 MB\n",
      "Memory usage after optimization is: 0.22 MB\n",
      "Decreased by 70.3%\n"
     ]
    }
   ],
   "source": [
    "test_df = reduce_mem_usage(test_df)"
   ]
  },
  {
   "cell_type": "code",
   "execution_count": 102,
   "id": "d3243322",
   "metadata": {},
   "outputs": [
    {
     "name": "stdout",
     "output_type": "stream",
     "text": [
      "<class 'pandas.core.frame.DataFrame'>\n",
      "RangeIndex: 5000 entries, 0 to 4999\n",
      "Data columns (total 19 columns):\n",
      " #   Column         Non-Null Count  Dtype   \n",
      "---  ------         --------------  -----   \n",
      " 0   Id             5000 non-null   int16   \n",
      " 1   DistrictId     5000 non-null   int16   \n",
      " 2   Rooms          5000 non-null   float32 \n",
      " 3   Square         5000 non-null   float32 \n",
      " 4   LifeSquare     3959 non-null   float32 \n",
      " 5   KitchenSquare  5000 non-null   float32 \n",
      " 6   Floor          5000 non-null   int8    \n",
      " 7   HouseFloor     5000 non-null   float32 \n",
      " 8   HouseYear      5000 non-null   int16   \n",
      " 9   Ecology_1      5000 non-null   float32 \n",
      " 10  Ecology_2      5000 non-null   category\n",
      " 11  Ecology_3      5000 non-null   category\n",
      " 12  Social_1       5000 non-null   int8    \n",
      " 13  Social_2       5000 non-null   int16   \n",
      " 14  Social_3       5000 non-null   int16   \n",
      " 15  Healthcare_1   2623 non-null   float32 \n",
      " 16  Helthcare_2    5000 non-null   int8    \n",
      " 17  Shops_1        5000 non-null   int8    \n",
      " 18  Shops_2        5000 non-null   category\n",
      "dtypes: category(3), float32(7), int16(5), int8(4)\n",
      "memory usage: 220.5 KB\n"
     ]
    }
   ],
   "source": [
    "test_df.info(memory_usage = 'deep')"
   ]
  },
  {
   "cell_type": "markdown",
   "id": "d5f678d2",
   "metadata": {},
   "source": [
    "#### Обработка количественных признаков"
   ]
  },
  {
   "cell_type": "code",
   "execution_count": 103,
   "id": "f093b135",
   "metadata": {},
   "outputs": [],
   "source": [
    "test_df.loc[(test_df['LifeSquare'] < 10) | (test_df['LifeSquare'] > 100), 'LifeSquare'] = test_df['LifeSquare'].median()\n",
    "median_lifesquare = test_df['LifeSquare'].median()\n",
    "test_df['LifeSquare'] = test_df['LifeSquare'].fillna(median_lifesquare)"
   ]
  },
  {
   "cell_type": "code",
   "execution_count": 104,
   "id": "8a47ff5c",
   "metadata": {},
   "outputs": [],
   "source": [
    "test_df.loc[test_df['Healthcare_1'] > 3000, 'Healthcare_1' ] = test_df['Healthcare_1'].median()\n",
    "median_healthcare1 = test_df['Healthcare_1'].median()\n",
    "test_df['Healthcare_1'] = test_df['Healthcare_1'].fillna(median_healthcare1)"
   ]
  },
  {
   "cell_type": "code",
   "execution_count": 105,
   "id": "c13ddda6",
   "metadata": {},
   "outputs": [],
   "source": [
    "test_df.loc[(test_df['Rooms'] > 5) | (test_df['Rooms'] < 1), 'Rooms'] = test_df['Rooms'].median()"
   ]
  },
  {
   "cell_type": "code",
   "execution_count": 106,
   "id": "3fa71232",
   "metadata": {},
   "outputs": [],
   "source": [
    "test_df.loc[(test_df['Square'] > 130) | (test_df['Square'] < 18), 'Square'] = test_df['Square'].median()"
   ]
  },
  {
   "cell_type": "code",
   "execution_count": 107,
   "id": "34f4060b",
   "metadata": {},
   "outputs": [],
   "source": [
    "test_df.loc[(test_df['KitchenSquare'] > 20) | (test_df['KitchenSquare'] < 5), 'KitchenSquare'] = test_df['KitchenSquare'].median()\n",
    "test_df.loc[((test_df['LifeSquare'] + test_df['KitchenSquare']) > test_df['Square']), ['LifeSquare', 'KitchenSquare']] = test_df[['LifeSquare', 'KitchenSquare']].median()\n",
    "test_df['LifeSquare'] = test_df['LifeSquare'].fillna(test_df['LifeSquare'].median())\n",
    "test_df['KitchenSquare'] = test_df['KitchenSquare'].fillna(test_df['KitchenSquare'].median())"
   ]
  },
  {
   "cell_type": "code",
   "execution_count": 108,
   "id": "ed3daf87",
   "metadata": {},
   "outputs": [],
   "source": [
    "test_df.loc[(test_df['HouseFloor'] < 1) | (test_df['HouseFloor'] > 45), 'HouseFloor'] = test_df['HouseFloor'].median()\n",
    "test_df.loc[(test_df['Floor'] > test_df['HouseFloor']), ['Floor', 'HouseFloor']] = test_df[['Floor', 'HouseFloor']].median()\n",
    "test_df['Floor'] = test_df['Floor'].fillna(test_df['Floor'].median())\n",
    "test_df['HouseFloor'] = test_df['HouseFloor'].fillna(test_df['HouseFloor'].median())"
   ]
  },
  {
   "cell_type": "code",
   "execution_count": 109,
   "id": "e1e04523",
   "metadata": {},
   "outputs": [],
   "source": [
    "test_df.loc[((test_df['Social_1'] < 5) | (test_df['Social_1'] > 60)), 'Social_1'] = test_df['Social_1'].median()\n",
    "test_df.loc[((test_df['Social_2'] < 500) | (test_df['Social_2'] > 14000)), 'Social_2'] = test_df['Social_2'].median()\n",
    "test_df.loc[((test_df['Social_3'] > 15) | (test_df['Social_3'] < 1)), 'Social_3'] = test_df['Social_3'].median()"
   ]
  },
  {
   "cell_type": "code",
   "execution_count": 110,
   "id": "2aeb1c9b",
   "metadata": {},
   "outputs": [],
   "source": [
    "test_df.loc[test_df['HouseYear'] > 2020, 'HouseYear'] = 2020"
   ]
  },
  {
   "cell_type": "markdown",
   "id": "b28d65f8",
   "metadata": {},
   "source": [
    "#### Обработка категориальных признаков"
   ]
  },
  {
   "cell_type": "code",
   "execution_count": 111,
   "id": "0d824a12",
   "metadata": {},
   "outputs": [],
   "source": [
    "test_df['Ecology_2_bin'] = test_df['Ecology_2'].replace({'A':0, 'B':1})\n",
    "test_df['Ecology_3_bin'] = test_df['Ecology_3'].replace({'A':0, 'B':1})\n",
    "test_df['Shops_2_bin'] = test_df['Shops_2'].replace({'A':0, 'B':1})"
   ]
  },
  {
   "cell_type": "code",
   "execution_count": 112,
   "id": "d223e83e",
   "metadata": {},
   "outputs": [
    {
     "data": {
      "text/html": [
       "<div>\n",
       "<style scoped>\n",
       "    .dataframe tbody tr th:only-of-type {\n",
       "        vertical-align: middle;\n",
       "    }\n",
       "\n",
       "    .dataframe tbody tr th {\n",
       "        vertical-align: top;\n",
       "    }\n",
       "\n",
       "    .dataframe thead th {\n",
       "        text-align: right;\n",
       "    }\n",
       "</style>\n",
       "<table border=\"1\" class=\"dataframe\">\n",
       "  <thead>\n",
       "    <tr style=\"text-align: right;\">\n",
       "      <th></th>\n",
       "      <th>Id</th>\n",
       "      <th>DistrictId</th>\n",
       "      <th>Rooms</th>\n",
       "      <th>Square</th>\n",
       "      <th>LifeSquare</th>\n",
       "      <th>KitchenSquare</th>\n",
       "      <th>Floor</th>\n",
       "      <th>HouseFloor</th>\n",
       "      <th>HouseYear</th>\n",
       "      <th>Ecology_1</th>\n",
       "      <th>...</th>\n",
       "      <th>Social_1</th>\n",
       "      <th>Social_2</th>\n",
       "      <th>Social_3</th>\n",
       "      <th>Healthcare_1</th>\n",
       "      <th>Helthcare_2</th>\n",
       "      <th>Shops_1</th>\n",
       "      <th>Shops_2</th>\n",
       "      <th>Ecology_2_bin</th>\n",
       "      <th>Ecology_3_bin</th>\n",
       "      <th>Shops_2_bin</th>\n",
       "    </tr>\n",
       "  </thead>\n",
       "  <tbody>\n",
       "    <tr>\n",
       "      <th>0</th>\n",
       "      <td>4567</td>\n",
       "      <td>44</td>\n",
       "      <td>1.0</td>\n",
       "      <td>36.847630</td>\n",
       "      <td>19.094183</td>\n",
       "      <td>5.0</td>\n",
       "      <td>5.0</td>\n",
       "      <td>9.0</td>\n",
       "      <td>1970</td>\n",
       "      <td>0.036122</td>\n",
       "      <td>...</td>\n",
       "      <td>24.0</td>\n",
       "      <td>4378.0</td>\n",
       "      <td>2.0</td>\n",
       "      <td>1036.0</td>\n",
       "      <td>1</td>\n",
       "      <td>1</td>\n",
       "      <td>B</td>\n",
       "      <td>1</td>\n",
       "      <td>1</td>\n",
       "      <td>1</td>\n",
       "    </tr>\n",
       "    <tr>\n",
       "      <th>1</th>\n",
       "      <td>5925</td>\n",
       "      <td>62</td>\n",
       "      <td>1.0</td>\n",
       "      <td>42.493908</td>\n",
       "      <td>32.925087</td>\n",
       "      <td>6.0</td>\n",
       "      <td>7.0</td>\n",
       "      <td>17.0</td>\n",
       "      <td>2017</td>\n",
       "      <td>0.072158</td>\n",
       "      <td>...</td>\n",
       "      <td>25.0</td>\n",
       "      <td>629.0</td>\n",
       "      <td>1.0</td>\n",
       "      <td>900.0</td>\n",
       "      <td>0</td>\n",
       "      <td>0</td>\n",
       "      <td>A</td>\n",
       "      <td>1</td>\n",
       "      <td>1</td>\n",
       "      <td>0</td>\n",
       "    </tr>\n",
       "    <tr>\n",
       "      <th>2</th>\n",
       "      <td>960</td>\n",
       "      <td>27</td>\n",
       "      <td>2.0</td>\n",
       "      <td>59.463676</td>\n",
       "      <td>32.925087</td>\n",
       "      <td>9.0</td>\n",
       "      <td>19.0</td>\n",
       "      <td>19.0</td>\n",
       "      <td>1977</td>\n",
       "      <td>0.211401</td>\n",
       "      <td>...</td>\n",
       "      <td>9.0</td>\n",
       "      <td>1892.0</td>\n",
       "      <td>2.0</td>\n",
       "      <td>900.0</td>\n",
       "      <td>0</td>\n",
       "      <td>1</td>\n",
       "      <td>B</td>\n",
       "      <td>1</td>\n",
       "      <td>1</td>\n",
       "      <td>1</td>\n",
       "    </tr>\n",
       "    <tr>\n",
       "      <th>3</th>\n",
       "      <td>3848</td>\n",
       "      <td>23</td>\n",
       "      <td>3.0</td>\n",
       "      <td>49.646030</td>\n",
       "      <td>33.893826</td>\n",
       "      <td>6.0</td>\n",
       "      <td>2.0</td>\n",
       "      <td>2.0</td>\n",
       "      <td>1965</td>\n",
       "      <td>0.014073</td>\n",
       "      <td>...</td>\n",
       "      <td>25.0</td>\n",
       "      <td>5285.0</td>\n",
       "      <td>2.0</td>\n",
       "      <td>900.0</td>\n",
       "      <td>0</td>\n",
       "      <td>0</td>\n",
       "      <td>B</td>\n",
       "      <td>1</td>\n",
       "      <td>1</td>\n",
       "      <td>1</td>\n",
       "    </tr>\n",
       "    <tr>\n",
       "      <th>4</th>\n",
       "      <td>746</td>\n",
       "      <td>74</td>\n",
       "      <td>1.0</td>\n",
       "      <td>53.837055</td>\n",
       "      <td>32.925087</td>\n",
       "      <td>6.0</td>\n",
       "      <td>8.0</td>\n",
       "      <td>17.0</td>\n",
       "      <td>1977</td>\n",
       "      <td>0.309479</td>\n",
       "      <td>...</td>\n",
       "      <td>35.0</td>\n",
       "      <td>7715.0</td>\n",
       "      <td>4.0</td>\n",
       "      <td>990.0</td>\n",
       "      <td>0</td>\n",
       "      <td>6</td>\n",
       "      <td>B</td>\n",
       "      <td>1</td>\n",
       "      <td>1</td>\n",
       "      <td>1</td>\n",
       "    </tr>\n",
       "  </tbody>\n",
       "</table>\n",
       "<p>5 rows × 22 columns</p>\n",
       "</div>"
      ],
      "text/plain": [
       "     Id  DistrictId  Rooms     Square  LifeSquare  KitchenSquare  Floor  \\\n",
       "0  4567          44    1.0  36.847630   19.094183            5.0    5.0   \n",
       "1  5925          62    1.0  42.493908   32.925087            6.0    7.0   \n",
       "2   960          27    2.0  59.463676   32.925087            9.0   19.0   \n",
       "3  3848          23    3.0  49.646030   33.893826            6.0    2.0   \n",
       "4   746          74    1.0  53.837055   32.925087            6.0    8.0   \n",
       "\n",
       "   HouseFloor  HouseYear  Ecology_1  ... Social_1 Social_2  Social_3  \\\n",
       "0         9.0       1970   0.036122  ...     24.0   4378.0       2.0   \n",
       "1        17.0       2017   0.072158  ...     25.0    629.0       1.0   \n",
       "2        19.0       1977   0.211401  ...      9.0   1892.0       2.0   \n",
       "3         2.0       1965   0.014073  ...     25.0   5285.0       2.0   \n",
       "4        17.0       1977   0.309479  ...     35.0   7715.0       4.0   \n",
       "\n",
       "   Healthcare_1  Helthcare_2  Shops_1  Shops_2  Ecology_2_bin Ecology_3_bin  \\\n",
       "0        1036.0            1        1        B              1             1   \n",
       "1         900.0            0        0        A              1             1   \n",
       "2         900.0            0        1        B              1             1   \n",
       "3         900.0            0        0        B              1             1   \n",
       "4         990.0            0        6        B              1             1   \n",
       "\n",
       "   Shops_2_bin  \n",
       "0            1  \n",
       "1            0  \n",
       "2            1  \n",
       "3            1  \n",
       "4            1  \n",
       "\n",
       "[5 rows x 22 columns]"
      ]
     },
     "execution_count": 112,
     "metadata": {},
     "output_type": "execute_result"
    }
   ],
   "source": [
    "test_df.head()"
   ]
  },
  {
   "cell_type": "code",
   "execution_count": 113,
   "id": "1a6d26e7",
   "metadata": {},
   "outputs": [
    {
     "data": {
      "text/plain": [
       "Id               0\n",
       "DistrictId       0\n",
       "Rooms            0\n",
       "Square           0\n",
       "LifeSquare       0\n",
       "KitchenSquare    0\n",
       "Floor            0\n",
       "HouseFloor       0\n",
       "HouseYear        0\n",
       "Ecology_1        0\n",
       "Ecology_2        0\n",
       "Ecology_3        0\n",
       "Social_1         0\n",
       "Social_2         0\n",
       "Social_3         0\n",
       "Healthcare_1     0\n",
       "Helthcare_2      0\n",
       "Shops_1          0\n",
       "Shops_2          0\n",
       "Ecology_2_bin    0\n",
       "Ecology_3_bin    0\n",
       "Shops_2_bin      0\n",
       "dtype: int64"
      ]
     },
     "execution_count": 113,
     "metadata": {},
     "output_type": "execute_result"
    }
   ],
   "source": [
    "test_df.isnull().sum()"
   ]
  },
  {
   "cell_type": "code",
   "execution_count": 114,
   "id": "d1f4c7e5",
   "metadata": {},
   "outputs": [
    {
     "name": "stdout",
     "output_type": "stream",
     "text": [
      "<class 'pandas.core.frame.DataFrame'>\n",
      "RangeIndex: 5000 entries, 0 to 4999\n",
      "Data columns (total 22 columns):\n",
      " #   Column         Non-Null Count  Dtype   \n",
      "---  ------         --------------  -----   \n",
      " 0   Id             5000 non-null   int16   \n",
      " 1   DistrictId     5000 non-null   int16   \n",
      " 2   Rooms          5000 non-null   float32 \n",
      " 3   Square         5000 non-null   float32 \n",
      " 4   LifeSquare     5000 non-null   float32 \n",
      " 5   KitchenSquare  5000 non-null   float32 \n",
      " 6   Floor          5000 non-null   float64 \n",
      " 7   HouseFloor     5000 non-null   float32 \n",
      " 8   HouseYear      5000 non-null   int16   \n",
      " 9   Ecology_1      5000 non-null   float32 \n",
      " 10  Ecology_2      5000 non-null   category\n",
      " 11  Ecology_3      5000 non-null   category\n",
      " 12  Social_1       5000 non-null   float64 \n",
      " 13  Social_2       5000 non-null   float64 \n",
      " 14  Social_3       5000 non-null   float64 \n",
      " 15  Healthcare_1   5000 non-null   float32 \n",
      " 16  Helthcare_2    5000 non-null   int8    \n",
      " 17  Shops_1        5000 non-null   int8    \n",
      " 18  Shops_2        5000 non-null   category\n",
      " 19  Ecology_2_bin  5000 non-null   int64   \n",
      " 20  Ecology_3_bin  5000 non-null   int64   \n",
      " 21  Shops_2_bin    5000 non-null   int64   \n",
      "dtypes: category(3), float32(7), float64(4), int16(3), int64(3), int8(2)\n",
      "memory usage: 464.4 KB\n"
     ]
    }
   ],
   "source": [
    "test_df.info()"
   ]
  },
  {
   "cell_type": "code",
   "execution_count": 115,
   "id": "8e3682b7",
   "metadata": {},
   "outputs": [],
   "source": [
    "test_df = test_df[feature_names]"
   ]
  },
  {
   "cell_type": "code",
   "execution_count": 116,
   "id": "3b41daaf",
   "metadata": {},
   "outputs": [
    {
     "data": {
      "text/html": [
       "<div>\n",
       "<style scoped>\n",
       "    .dataframe tbody tr th:only-of-type {\n",
       "        vertical-align: middle;\n",
       "    }\n",
       "\n",
       "    .dataframe tbody tr th {\n",
       "        vertical-align: top;\n",
       "    }\n",
       "\n",
       "    .dataframe thead th {\n",
       "        text-align: right;\n",
       "    }\n",
       "</style>\n",
       "<table border=\"1\" class=\"dataframe\">\n",
       "  <thead>\n",
       "    <tr style=\"text-align: right;\">\n",
       "      <th></th>\n",
       "      <th>DistrictId</th>\n",
       "      <th>Rooms</th>\n",
       "      <th>Square</th>\n",
       "      <th>LifeSquare</th>\n",
       "      <th>KitchenSquare</th>\n",
       "      <th>Floor</th>\n",
       "      <th>HouseFloor</th>\n",
       "      <th>HouseYear</th>\n",
       "      <th>Ecology_1</th>\n",
       "      <th>Social_1</th>\n",
       "      <th>Social_2</th>\n",
       "      <th>Social_3</th>\n",
       "      <th>Healthcare_1</th>\n",
       "      <th>Helthcare_2</th>\n",
       "      <th>Shops_1</th>\n",
       "      <th>Ecology_2_bin</th>\n",
       "      <th>Ecology_3_bin</th>\n",
       "      <th>Shops_2_bin</th>\n",
       "    </tr>\n",
       "  </thead>\n",
       "  <tbody>\n",
       "    <tr>\n",
       "      <th>0</th>\n",
       "      <td>-0.164781</td>\n",
       "      <td>-1.124521</td>\n",
       "      <td>-1.095312</td>\n",
       "      <td>-1.477855</td>\n",
       "      <td>-1.067114</td>\n",
       "      <td>-0.625421</td>\n",
       "      <td>-0.911136</td>\n",
       "      <td>-0.774992</td>\n",
       "      <td>-0.697594</td>\n",
       "      <td>-0.292421</td>\n",
       "      <td>-0.390392</td>\n",
       "      <td>-0.459181</td>\n",
       "      <td>0.180597</td>\n",
       "      <td>1</td>\n",
       "      <td>1</td>\n",
       "      <td>0.098453</td>\n",
       "      <td>0.175258</td>\n",
       "      <td>0.299666</td>\n",
       "    </tr>\n",
       "    <tr>\n",
       "      <th>1</th>\n",
       "      <td>0.242689</td>\n",
       "      <td>-1.124521</td>\n",
       "      <td>-0.772879</td>\n",
       "      <td>0.007533</td>\n",
       "      <td>-0.574221</td>\n",
       "      <td>-0.191071</td>\n",
       "      <td>0.594376</td>\n",
       "      <td>1.755796</td>\n",
       "      <td>-0.397445</td>\n",
       "      <td>-0.211247</td>\n",
       "      <td>-1.667970</td>\n",
       "      <td>-0.847988</td>\n",
       "      <td>-0.067520</td>\n",
       "      <td>0</td>\n",
       "      <td>0</td>\n",
       "      <td>0.098453</td>\n",
       "      <td>0.175258</td>\n",
       "      <td>-3.337053</td>\n",
       "    </tr>\n",
       "    <tr>\n",
       "      <th>2</th>\n",
       "      <td>-0.549613</td>\n",
       "      <td>0.116398</td>\n",
       "      <td>0.196185</td>\n",
       "      <td>0.007533</td>\n",
       "      <td>0.904460</td>\n",
       "      <td>2.415031</td>\n",
       "      <td>0.970755</td>\n",
       "      <td>-0.398066</td>\n",
       "      <td>0.762360</td>\n",
       "      <td>-1.510031</td>\n",
       "      <td>-1.237567</td>\n",
       "      <td>-0.459181</td>\n",
       "      <td>-0.067520</td>\n",
       "      <td>0</td>\n",
       "      <td>1</td>\n",
       "      <td>0.098453</td>\n",
       "      <td>0.175258</td>\n",
       "      <td>0.299666</td>\n",
       "    </tr>\n",
       "    <tr>\n",
       "      <th>3</th>\n",
       "      <td>-0.640162</td>\n",
       "      <td>1.357317</td>\n",
       "      <td>-0.364455</td>\n",
       "      <td>0.111572</td>\n",
       "      <td>-0.574221</td>\n",
       "      <td>-1.276946</td>\n",
       "      <td>-2.228460</td>\n",
       "      <td>-1.044225</td>\n",
       "      <td>-0.881250</td>\n",
       "      <td>-0.211247</td>\n",
       "      <td>-0.081306</td>\n",
       "      <td>-0.459181</td>\n",
       "      <td>-0.067520</td>\n",
       "      <td>0</td>\n",
       "      <td>0</td>\n",
       "      <td>0.098453</td>\n",
       "      <td>0.175258</td>\n",
       "      <td>0.299666</td>\n",
       "    </tr>\n",
       "    <tr>\n",
       "      <th>4</th>\n",
       "      <td>0.514336</td>\n",
       "      <td>-1.124521</td>\n",
       "      <td>-0.125125</td>\n",
       "      <td>0.007533</td>\n",
       "      <td>-0.574221</td>\n",
       "      <td>0.026104</td>\n",
       "      <td>0.594376</td>\n",
       "      <td>-0.398066</td>\n",
       "      <td>1.579283</td>\n",
       "      <td>0.600493</td>\n",
       "      <td>0.746785</td>\n",
       "      <td>0.318433</td>\n",
       "      <td>0.096675</td>\n",
       "      <td>0</td>\n",
       "      <td>6</td>\n",
       "      <td>0.098453</td>\n",
       "      <td>0.175258</td>\n",
       "      <td>0.299666</td>\n",
       "    </tr>\n",
       "  </tbody>\n",
       "</table>\n",
       "</div>"
      ],
      "text/plain": [
       "   DistrictId     Rooms    Square  LifeSquare  KitchenSquare     Floor  \\\n",
       "0   -0.164781 -1.124521 -1.095312   -1.477855      -1.067114 -0.625421   \n",
       "1    0.242689 -1.124521 -0.772879    0.007533      -0.574221 -0.191071   \n",
       "2   -0.549613  0.116398  0.196185    0.007533       0.904460  2.415031   \n",
       "3   -0.640162  1.357317 -0.364455    0.111572      -0.574221 -1.276946   \n",
       "4    0.514336 -1.124521 -0.125125    0.007533      -0.574221  0.026104   \n",
       "\n",
       "   HouseFloor  HouseYear  Ecology_1  Social_1  Social_2  Social_3  \\\n",
       "0   -0.911136  -0.774992  -0.697594 -0.292421 -0.390392 -0.459181   \n",
       "1    0.594376   1.755796  -0.397445 -0.211247 -1.667970 -0.847988   \n",
       "2    0.970755  -0.398066   0.762360 -1.510031 -1.237567 -0.459181   \n",
       "3   -2.228460  -1.044225  -0.881250 -0.211247 -0.081306 -0.459181   \n",
       "4    0.594376  -0.398066   1.579283  0.600493  0.746785  0.318433   \n",
       "\n",
       "   Healthcare_1  Helthcare_2  Shops_1  Ecology_2_bin  Ecology_3_bin  \\\n",
       "0      0.180597            1        1       0.098453       0.175258   \n",
       "1     -0.067520            0        0       0.098453       0.175258   \n",
       "2     -0.067520            0        1       0.098453       0.175258   \n",
       "3     -0.067520            0        0       0.098453       0.175258   \n",
       "4      0.096675            0        6       0.098453       0.175258   \n",
       "\n",
       "   Shops_2_bin  \n",
       "0     0.299666  \n",
       "1    -3.337053  \n",
       "2     0.299666  \n",
       "3     0.299666  \n",
       "4     0.299666  "
      ]
     },
     "execution_count": 116,
     "metadata": {},
     "output_type": "execute_result"
    }
   ],
   "source": [
    "feature_names_for_stand = test_df[feature_names].select_dtypes(include=['float32', 'float64', 'int16', 'int64']).columns.tolist()\n",
    "stand_features = scaler.fit_transform(test_df[feature_names_for_stand])\n",
    "test_df[feature_names_for_stand] = pd.DataFrame(stand_features, columns=feature_names_for_stand)\n",
    "test_df.head()"
   ]
  },
  {
   "cell_type": "code",
   "execution_count": 117,
   "id": "746e53fa",
   "metadata": {
    "scrolled": true
   },
   "outputs": [
    {
     "data": {
      "text/html": [
       "<div>\n",
       "<style scoped>\n",
       "    .dataframe tbody tr th:only-of-type {\n",
       "        vertical-align: middle;\n",
       "    }\n",
       "\n",
       "    .dataframe tbody tr th {\n",
       "        vertical-align: top;\n",
       "    }\n",
       "\n",
       "    .dataframe thead th {\n",
       "        text-align: right;\n",
       "    }\n",
       "</style>\n",
       "<table border=\"1\" class=\"dataframe\">\n",
       "  <thead>\n",
       "    <tr style=\"text-align: right;\">\n",
       "      <th></th>\n",
       "      <th>Id</th>\n",
       "      <th>Price</th>\n",
       "    </tr>\n",
       "  </thead>\n",
       "  <tbody>\n",
       "    <tr>\n",
       "      <th>0</th>\n",
       "      <td>4567</td>\n",
       "      <td>200000.0</td>\n",
       "    </tr>\n",
       "    <tr>\n",
       "      <th>1</th>\n",
       "      <td>5925</td>\n",
       "      <td>200000.0</td>\n",
       "    </tr>\n",
       "    <tr>\n",
       "      <th>2</th>\n",
       "      <td>960</td>\n",
       "      <td>200000.0</td>\n",
       "    </tr>\n",
       "    <tr>\n",
       "      <th>3</th>\n",
       "      <td>3848</td>\n",
       "      <td>200000.0</td>\n",
       "    </tr>\n",
       "    <tr>\n",
       "      <th>4</th>\n",
       "      <td>746</td>\n",
       "      <td>200000.0</td>\n",
       "    </tr>\n",
       "  </tbody>\n",
       "</table>\n",
       "</div>"
      ],
      "text/plain": [
       "     Id     Price\n",
       "0  4567  200000.0\n",
       "1  5925  200000.0\n",
       "2   960  200000.0\n",
       "3  3848  200000.0\n",
       "4   746  200000.0"
      ]
     },
     "execution_count": 117,
     "metadata": {},
     "output_type": "execute_result"
    }
   ],
   "source": [
    "submit = pd.read_csv('C:/Курсовой проект Библиотеки/sample_submission.csv')\n",
    "submit.head()"
   ]
  },
  {
   "cell_type": "code",
   "execution_count": 118,
   "id": "a5ab084d",
   "metadata": {},
   "outputs": [
    {
     "data": {
      "text/plain": [
       "array([173382.5981679 , 126306.91763371, 157026.94423992, ...,\n",
       "       146432.95191348, 183902.85379466, 275830.48154692])"
      ]
     },
     "execution_count": 118,
     "metadata": {},
     "output_type": "execute_result"
    }
   ],
   "source": [
    "predictions = final_model.predict(test_df)\n",
    "predictions"
   ]
  },
  {
   "cell_type": "code",
   "execution_count": 119,
   "id": "6e00de71",
   "metadata": {},
   "outputs": [
    {
     "data": {
      "text/html": [
       "<div>\n",
       "<style scoped>\n",
       "    .dataframe tbody tr th:only-of-type {\n",
       "        vertical-align: middle;\n",
       "    }\n",
       "\n",
       "    .dataframe tbody tr th {\n",
       "        vertical-align: top;\n",
       "    }\n",
       "\n",
       "    .dataframe thead th {\n",
       "        text-align: right;\n",
       "    }\n",
       "</style>\n",
       "<table border=\"1\" class=\"dataframe\">\n",
       "  <thead>\n",
       "    <tr style=\"text-align: right;\">\n",
       "      <th></th>\n",
       "      <th>Id</th>\n",
       "      <th>Price</th>\n",
       "    </tr>\n",
       "  </thead>\n",
       "  <tbody>\n",
       "    <tr>\n",
       "      <th>0</th>\n",
       "      <td>4567</td>\n",
       "      <td>173382.598168</td>\n",
       "    </tr>\n",
       "    <tr>\n",
       "      <th>1</th>\n",
       "      <td>5925</td>\n",
       "      <td>126306.917634</td>\n",
       "    </tr>\n",
       "    <tr>\n",
       "      <th>2</th>\n",
       "      <td>960</td>\n",
       "      <td>157026.944240</td>\n",
       "    </tr>\n",
       "    <tr>\n",
       "      <th>3</th>\n",
       "      <td>3848</td>\n",
       "      <td>139948.337568</td>\n",
       "    </tr>\n",
       "    <tr>\n",
       "      <th>4</th>\n",
       "      <td>746</td>\n",
       "      <td>247080.518727</td>\n",
       "    </tr>\n",
       "  </tbody>\n",
       "</table>\n",
       "</div>"
      ],
      "text/plain": [
       "     Id          Price\n",
       "0  4567  173382.598168\n",
       "1  5925  126306.917634\n",
       "2   960  157026.944240\n",
       "3  3848  139948.337568\n",
       "4   746  247080.518727"
      ]
     },
     "execution_count": 119,
     "metadata": {},
     "output_type": "execute_result"
    }
   ],
   "source": [
    "submit['Price'] = predictions\n",
    "submit.head()"
   ]
  },
  {
   "cell_type": "code",
   "execution_count": 120,
   "id": "49b1d077",
   "metadata": {},
   "outputs": [],
   "source": [
    "submit.to_csv(PREDICTIONS, index=False)"
   ]
  }
 ],
 "metadata": {
  "kernelspec": {
   "display_name": "Python 3",
   "language": "python",
   "name": "python3"
  },
  "language_info": {
   "codemirror_mode": {
    "name": "ipython",
    "version": 3
   },
   "file_extension": ".py",
   "mimetype": "text/x-python",
   "name": "python",
   "nbconvert_exporter": "python",
   "pygments_lexer": "ipython3",
   "version": "3.8.8"
  }
 },
 "nbformat": 4,
 "nbformat_minor": 5
}
